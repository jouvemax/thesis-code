{
 "cells": [
  {
   "cell_type": "code",
   "execution_count": 2,
   "metadata": {},
   "outputs": [],
   "source": [
    "from transformers import AutoTokenizer\n",
    "import torch\n",
    "import torch.nn as nn\n",
    "import torch.distributed as dist\n",
    "import numpy as np\n",
    "import pandas as pd\n",
    "import pickle as pkl"
   ]
  },
  {
   "cell_type": "code",
   "execution_count": 3,
   "metadata": {},
   "outputs": [],
   "source": [
    "tokenizer = AutoTokenizer.from_pretrained('bert-base-multilingual-cased')\n",
    "cos_sim = torch.nn.CosineSimilarity()\n",
    "device = torch.device(\"cuda\" if torch.cuda.is_available() else \"cpu\")"
   ]
  },
  {
   "cell_type": "code",
   "execution_count": 4,
   "metadata": {},
   "outputs": [],
   "source": [
    "def get_word_embeddings(path_to_model):\n",
    "    x_state_dict = torch.load(path_to_model, map_location=\"cpu\")\n",
    "    return x_state_dict[\"bert.embeddings.word_embeddings.weight\"]"
   ]
  },
  {
   "cell_type": "code",
   "execution_count": 5,
   "metadata": {},
   "outputs": [],
   "source": [
    "def compute_mean_cosine_similarity(word_pairs, word_embeddings):\n",
    "    cosine_sim = []\n",
    "\n",
    "    for lang_word, en_word in word_pairs:\n",
    "\n",
    "        token_ids_1 = np.asarray(tokenizer.encode(lang_word)[1:-1])\n",
    "        token_ids_2 = np.asarray(tokenizer.encode(en_word)[1:-1])\n",
    "\n",
    "        with torch.no_grad():\n",
    "            embeddings_1 = word_embeddings[token_ids_1,:]\n",
    "            mean_embeddings_1 = embeddings_1.mean(axis=0)\n",
    "    \n",
    "            embeddings_2 = word_embeddings[token_ids_2,:]\n",
    "            mean_embeddings_2 = embeddings_2.mean(axis=0)\n",
    "    \n",
    "            cosine_sim.append(cos_sim(mean_embeddings_1.reshape(1, -1), mean_embeddings_2.reshape(1, -1)).item())\n",
    "        \n",
    "    similarities = np.asarray(cosine_sim)\n",
    "    similarities = similarities[~np.isnan(similarities)]\n",
    "    return similarities.mean()\n"
   ]
  },
  {
   "cell_type": "code",
   "execution_count": 6,
   "metadata": {},
   "outputs": [],
   "source": [
    "def compute_mean_cosine_similarity_wordnet(word_pos_dict, word_embeddings):\n",
    "    all_translations = []\n",
    "    noun_translations = []\n",
    "    verb_translations = []\n",
    "    adjective_translations = []\n",
    "    adverb_translations = []\n",
    "\n",
    "    for word_pos, translation in word_pos_dict.items():\n",
    "        word = word_pos[0]\n",
    "        pos = word_pos[1]\n",
    "\n",
    "        all_translations.append((word, translation))\n",
    "        if pos == \"NOUN\":\n",
    "            noun_translations.append((word, translation))\n",
    "        if pos == \"VERB\":\n",
    "            verb_translations.append((word, translation))\n",
    "        if pos == \"ADJ\":\n",
    "            adjective_translations.append((word, translation))\n",
    "        if pos == \"ADV\":\n",
    "            adverb_translations.append((word, translation))\n",
    "    \n",
    "    mean_all = compute_mean_cosine_similarity(all_translations, word_embeddings)\n",
    "    print(\"All words | Mean cosine similarity = {m}\".format(m = mean_all))\n",
    "\n",
    "    mean_noun = compute_mean_cosine_similarity(noun_translations, word_embeddings)\n",
    "    print(\"All NOUNs | Mean cosine similarity = {m}\".format(m = mean_noun))\n",
    "\n",
    "    mean_verb = compute_mean_cosine_similarity(verb_translations, word_embeddings)\n",
    "    print(\"All VERBs | Mean cosine similarity = {m}\".format(m = mean_verb))\n",
    "\n",
    "    mean_adj = compute_mean_cosine_similarity(adjective_translations, word_embeddings)\n",
    "    print(\"All ADJs | Mean cosine similarity = {m}\".format(m = mean_adj))\n",
    "\n",
    "    mean_adv = compute_mean_cosine_similarity(adverb_translations, word_embeddings)\n",
    "    print(\"All ADVs | Mean cosine similarity = {m}\".format(m = mean_adv))"
   ]
  },
  {
   "cell_type": "code",
   "execution_count": 15,
   "metadata": {},
   "outputs": [],
   "source": [
    "embeddings_baseline = get_word_embeddings(\"/mnt/nas_home/mrgj4/nlvr2_dataset/cc_pretrain/pytorch_model_best.bin\")"
   ]
  },
  {
   "cell_type": "markdown",
   "metadata": {},
   "source": [
    "## SW"
   ]
  },
  {
   "cell_type": "code",
   "execution_count": 16,
   "metadata": {},
   "outputs": [],
   "source": [
    "with open(\"./panlex_dictionaries/sw_to_en_dict.pickle\",'rb') as handle_1:\n",
    "    sw_to_en_dict = pkl.load(handle_1)\n",
    "\n",
    "with open(\"./infused_test_set/sw_to_en_marvl_dict.pickle\",'rb') as handle_2:\n",
    "    sw_to_en_marvl_dict = pkl.load(handle_2)"
   ]
  },
  {
   "cell_type": "markdown",
   "metadata": {},
   "source": [
    "### Baseline"
   ]
  },
  {
   "cell_type": "code",
   "execution_count": 17,
   "metadata": {},
   "outputs": [
    {
     "data": {
      "text/plain": [
       "0.18425346160636666"
      ]
     },
     "execution_count": 17,
     "metadata": {},
     "output_type": "execute_result"
    }
   ],
   "source": [
    "compute_mean_cosine_similarity(list(sw_to_en_marvl_dict.items()), embeddings_baseline)"
   ]
  },
  {
   "cell_type": "code",
   "execution_count": 18,
   "metadata": {},
   "outputs": [
    {
     "name": "stdout",
     "output_type": "stream",
     "text": [
      "All words | Mean cosine similarity = 0.18919581820941783\n",
      "All NOUNs | Mean cosine similarity = 0.207730880408052\n",
      "All VERBs | Mean cosine similarity = 0.15045521574208381\n",
      "All ADJs | Mean cosine similarity = 0.1677729550142101\n",
      "All ADVs | Mean cosine similarity = 0.13368910961400937\n"
     ]
    }
   ],
   "source": [
    "compute_mean_cosine_similarity_wordnet(sw_to_en_dict, embeddings_baseline_ft)"
   ]
  },
  {
   "cell_type": "markdown",
   "metadata": {},
   "source": [
    "### WIT pretraining"
   ]
  },
  {
   "cell_type": "code",
   "execution_count": 19,
   "metadata": {},
   "outputs": [],
   "source": [
    "embeddings_wit_sw =  get_word_embeddings(\"/mnt/nas_home/mrgj4/final_repo/thesis-code/experiment_1/sw/seed1/finetune/NLVR2_ctrl_muniter_base/pytorch_model_best.bin\")"
   ]
  },
  {
   "cell_type": "code",
   "execution_count": 20,
   "metadata": {},
   "outputs": [
    {
     "data": {
      "text/plain": [
       "0.18618910572149977"
      ]
     },
     "execution_count": 20,
     "metadata": {},
     "output_type": "execute_result"
    }
   ],
   "source": [
    "compute_mean_cosine_similarity(list(sw_to_en_marvl_dict.items()), embeddings_wit_sw)"
   ]
  },
  {
   "cell_type": "code",
   "execution_count": 21,
   "metadata": {},
   "outputs": [
    {
     "name": "stdout",
     "output_type": "stream",
     "text": [
      "All words | Mean cosine similarity = 0.1896265890370076\n",
      "All NOUNs | Mean cosine similarity = 0.20814037093355492\n",
      "All VERBs | Mean cosine similarity = 0.1509691119135823\n",
      "All ADJs | Mean cosine similarity = 0.1683298956514472\n",
      "All ADVs | Mean cosine similarity = 0.13344225569025558\n"
     ]
    }
   ],
   "source": [
    "compute_mean_cosine_similarity_wordnet(sw_to_en_dict, embeddings_wit_sw)"
   ]
  },
  {
   "cell_type": "markdown",
   "metadata": {},
   "source": [
    "### Best model - WIT pretraining with code-switching + code-switched finetuning"
   ]
  },
  {
   "cell_type": "code",
   "execution_count": 22,
   "metadata": {},
   "outputs": [],
   "source": [
    "embeddings_codeswitching_sw =  get_word_embeddings(\"/mnt/nas_home/mrgj4/final_repo/thesis-code/experiment_3/sw/seed1/pretrain_cs_finetune_cs/NLVR2_ctrl_muniter_base/pytorch_model_best.bin\")"
   ]
  },
  {
   "cell_type": "code",
   "execution_count": 23,
   "metadata": {},
   "outputs": [
    {
     "data": {
      "text/plain": [
       "0.18712524190002583"
      ]
     },
     "execution_count": 23,
     "metadata": {},
     "output_type": "execute_result"
    }
   ],
   "source": [
    "compute_mean_cosine_similarity(list(sw_to_en_marvl_dict.items()), embeddings_codeswitching_sw)"
   ]
  },
  {
   "cell_type": "code",
   "execution_count": 24,
   "metadata": {},
   "outputs": [
    {
     "name": "stdout",
     "output_type": "stream",
     "text": [
      "All words | Mean cosine similarity = 0.19040289691418058\n",
      "All NOUNs | Mean cosine similarity = 0.2089250207820141\n",
      "All VERBs | Mean cosine similarity = 0.15155054509903576\n",
      "All ADJs | Mean cosine similarity = 0.16905893699122712\n",
      "All ADVs | Mean cosine similarity = 0.13574119499409754\n"
     ]
    }
   ],
   "source": [
    "compute_mean_cosine_similarity_wordnet(sw_to_en_dict, embeddings_codeswitching_sw)"
   ]
  },
  {
   "cell_type": "markdown",
   "metadata": {},
   "source": [
    "## TA"
   ]
  },
  {
   "cell_type": "code",
   "execution_count": 25,
   "metadata": {},
   "outputs": [],
   "source": [
    "with open(\"./panlex_dictionaries/ta_to_en_dict.pickle\",'rb') as handle_1:\n",
    "    ta_to_en_dict = pkl.load(handle_1)\n",
    "\n",
    "with open(\"./infused_test_set/ta_to_en_marvl_dict.pickle\",'rb') as handle_2:\n",
    "    ta_to_en_marvl_dict = pkl.load(handle_2)"
   ]
  },
  {
   "cell_type": "markdown",
   "metadata": {},
   "source": [
    "### Baseline"
   ]
  },
  {
   "cell_type": "code",
   "execution_count": 26,
   "metadata": {},
   "outputs": [
    {
     "data": {
      "text/plain": [
       "0.15174966074305227"
      ]
     },
     "execution_count": 26,
     "metadata": {},
     "output_type": "execute_result"
    }
   ],
   "source": [
    "compute_mean_cosine_similarity(list(ta_to_en_marvl_dict.items()), embeddings_baseline)"
   ]
  },
  {
   "cell_type": "code",
   "execution_count": 27,
   "metadata": {},
   "outputs": [
    {
     "name": "stdout",
     "output_type": "stream",
     "text": [
      "All words | Mean cosine similarity = 0.19977740609031042\n",
      "All NOUNs | Mean cosine similarity = 0.20765580186589835\n",
      "All VERBs | Mean cosine similarity = 0.17347964875070365\n",
      "All ADJs | Mean cosine similarity = 0.19912358018008466\n",
      "All ADVs | Mean cosine similarity = 0.17600692763174455\n"
     ]
    }
   ],
   "source": [
    "compute_mean_cosine_similarity_wordnet(ta_to_en_dict, embeddings_baseline_ft)"
   ]
  },
  {
   "cell_type": "markdown",
   "metadata": {},
   "source": [
    "### WIT pretraining"
   ]
  },
  {
   "cell_type": "code",
   "execution_count": 28,
   "metadata": {},
   "outputs": [],
   "source": [
    "embeddings_wit_ta =  get_word_embeddings(\"/mnt/nas_home/mrgj4/final_repo/thesis-code/experiment_1/ta/seed1/finetune/NLVR2_ctrl_muniter_base/pytorch_model_best.bin\")"
   ]
  },
  {
   "cell_type": "code",
   "execution_count": 29,
   "metadata": {},
   "outputs": [
    {
     "data": {
      "text/plain": [
       "0.15454914044774948"
      ]
     },
     "execution_count": 29,
     "metadata": {},
     "output_type": "execute_result"
    }
   ],
   "source": [
    "compute_mean_cosine_similarity(list(ta_to_en_marvl_dict.items()), embeddings_wit_ta)"
   ]
  },
  {
   "cell_type": "code",
   "execution_count": 30,
   "metadata": {},
   "outputs": [
    {
     "name": "stdout",
     "output_type": "stream",
     "text": [
      "All words | Mean cosine similarity = 0.20129560611709824\n",
      "All NOUNs | Mean cosine similarity = 0.20912236065700676\n",
      "All VERBs | Mean cosine similarity = 0.17509699353059968\n",
      "All ADJs | Mean cosine similarity = 0.20073141315354942\n",
      "All ADVs | Mean cosine similarity = 0.1777401501296959\n"
     ]
    }
   ],
   "source": [
    "compute_mean_cosine_similarity_wordnet(ta_to_en_dict, embeddings_wit_ta)"
   ]
  },
  {
   "cell_type": "markdown",
   "metadata": {},
   "source": [
    "### Best model - WIT pretraining with code-switching + code-switched finetuning"
   ]
  },
  {
   "cell_type": "code",
   "execution_count": 31,
   "metadata": {},
   "outputs": [],
   "source": [
    "embeddings_codeswitching_ta =  get_word_embeddings(\"/mnt/nas_home/mrgj4/final_repo/thesis-code/experiment_3/ta/seed1/pretrain_cs_finetune_cs/NLVR2_ctrl_muniter_base/pytorch_model_best.bin\")"
   ]
  },
  {
   "cell_type": "code",
   "execution_count": 32,
   "metadata": {},
   "outputs": [
    {
     "data": {
      "text/plain": [
       "0.15510254572982987"
      ]
     },
     "execution_count": 32,
     "metadata": {},
     "output_type": "execute_result"
    }
   ],
   "source": [
    "compute_mean_cosine_similarity(list(ta_to_en_marvl_dict.items()), embeddings_codeswitching_ta)"
   ]
  },
  {
   "cell_type": "code",
   "execution_count": 33,
   "metadata": {},
   "outputs": [
    {
     "name": "stdout",
     "output_type": "stream",
     "text": [
      "All words | Mean cosine similarity = 0.2019679782650549\n",
      "All NOUNs | Mean cosine similarity = 0.20982041865765622\n",
      "All VERBs | Mean cosine similarity = 0.1757129264646493\n",
      "All ADJs | Mean cosine similarity = 0.20131341016982707\n",
      "All ADVs | Mean cosine similarity = 0.17859935869999968\n"
     ]
    }
   ],
   "source": [
    "compute_mean_cosine_similarity_wordnet(ta_to_en_dict, embeddings_codeswitching_ta)"
   ]
  },
  {
   "cell_type": "markdown",
   "metadata": {},
   "source": [
    "## TR"
   ]
  },
  {
   "cell_type": "code",
   "execution_count": 34,
   "metadata": {},
   "outputs": [],
   "source": [
    "with open(\"./panlex_dictionaries/tr_to_en_dict.pickle\",'rb') as handle_1:\n",
    "    tr_to_en_dict = pkl.load(handle_1)\n",
    "\n",
    "with open(\"./infused_test_set/tr_to_en_marvl_dict.pickle\",'rb') as handle_2:\n",
    "    tr_to_en_marvl_dict = pkl.load(handle_2)"
   ]
  },
  {
   "cell_type": "markdown",
   "metadata": {},
   "source": [
    "### Baseline"
   ]
  },
  {
   "cell_type": "code",
   "execution_count": 35,
   "metadata": {},
   "outputs": [
    {
     "data": {
      "text/plain": [
       "0.1894214367178821"
      ]
     },
     "execution_count": 35,
     "metadata": {},
     "output_type": "execute_result"
    }
   ],
   "source": [
    "compute_mean_cosine_similarity(list(tr_to_en_marvl_dict.items()), embeddings_baseline)"
   ]
  },
  {
   "cell_type": "code",
   "execution_count": 36,
   "metadata": {},
   "outputs": [
    {
     "name": "stdout",
     "output_type": "stream",
     "text": [
      "All words | Mean cosine similarity = 0.249461998311177\n",
      "All NOUNs | Mean cosine similarity = 0.266069126730038\n",
      "All VERBs | Mean cosine similarity = 0.19543854782843875\n",
      "All ADJs | Mean cosine similarity = 0.23810544077775023\n",
      "All ADVs | Mean cosine similarity = 0.17988731655558304\n"
     ]
    }
   ],
   "source": [
    "compute_mean_cosine_similarity_wordnet(tr_to_en_dict, embeddings_baseline_ft)"
   ]
  },
  {
   "cell_type": "markdown",
   "metadata": {},
   "source": [
    "### WIT pretraining"
   ]
  },
  {
   "cell_type": "code",
   "execution_count": 38,
   "metadata": {},
   "outputs": [],
   "source": [
    "embeddings_wit_tr =  get_word_embeddings(\"/mnt/nas_home/mrgj4/final_repo/thesis-code/experiment_1/tr/seed1/finetune/NLVR2_ctrl_muniter_base/pytorch_model_best.bin\")"
   ]
  },
  {
   "cell_type": "code",
   "execution_count": 39,
   "metadata": {},
   "outputs": [
    {
     "data": {
      "text/plain": [
       "0.19052003919906368"
      ]
     },
     "execution_count": 39,
     "metadata": {},
     "output_type": "execute_result"
    }
   ],
   "source": [
    "compute_mean_cosine_similarity(list(tr_to_en_marvl_dict.items()), embeddings_wit_tr)"
   ]
  },
  {
   "cell_type": "code",
   "execution_count": 40,
   "metadata": {},
   "outputs": [
    {
     "name": "stdout",
     "output_type": "stream",
     "text": [
      "All words | Mean cosine similarity = 0.25030890732911854\n",
      "All NOUNs | Mean cosine similarity = 0.2671009984484636\n",
      "All VERBs | Mean cosine similarity = 0.1961022545246521\n",
      "All ADJs | Mean cosine similarity = 0.23853598638105328\n",
      "All ADVs | Mean cosine similarity = 0.1794000202645054\n"
     ]
    }
   ],
   "source": [
    "compute_mean_cosine_similarity_wordnet(tr_to_en_dict, embeddings_wit_tr)"
   ]
  },
  {
   "cell_type": "markdown",
   "metadata": {},
   "source": [
    "### Best model - WIT pretraining with code-switching + code-switched finetuning"
   ]
  },
  {
   "cell_type": "code",
   "execution_count": 41,
   "metadata": {},
   "outputs": [],
   "source": [
    "embeddings_codeswitching_tr =  get_word_embeddings(\"/mnt/nas_home/mrgj4/final_repo/thesis-code/experiment_3/tr/seed1/pretrain_cs_finetune_cs/NLVR2_ctrl_muniter_base/pytorch_model_best.bin\")"
   ]
  },
  {
   "cell_type": "code",
   "execution_count": 42,
   "metadata": {},
   "outputs": [
    {
     "data": {
      "text/plain": [
       "0.19205984606920407"
      ]
     },
     "execution_count": 42,
     "metadata": {},
     "output_type": "execute_result"
    }
   ],
   "source": [
    "compute_mean_cosine_similarity(list(tr_to_en_marvl_dict.items()), embeddings_codeswitching_tr)"
   ]
  },
  {
   "cell_type": "code",
   "execution_count": 43,
   "metadata": {},
   "outputs": [
    {
     "name": "stdout",
     "output_type": "stream",
     "text": [
      "All words | Mean cosine similarity = 0.2508677836228365\n",
      "All NOUNs | Mean cosine similarity = 0.26760591893497354\n",
      "All VERBs | Mean cosine similarity = 0.19667106047865543\n",
      "All ADJs | Mean cosine similarity = 0.23917952845609936\n",
      "All ADVs | Mean cosine similarity = 0.18089005361474225\n"
     ]
    }
   ],
   "source": [
    "compute_mean_cosine_similarity_wordnet(tr_to_en_dict, embeddings_codeswitching_tr)"
   ]
  },
  {
   "cell_type": "markdown",
   "metadata": {},
   "source": [
    "## ID"
   ]
  },
  {
   "cell_type": "code",
   "execution_count": 44,
   "metadata": {},
   "outputs": [],
   "source": [
    "with open(\"./panlex_dictionaries/id_to_en_dict.pickle\",'rb') as handle_1:\n",
    "    id_to_en_dict = pkl.load(handle_1)\n",
    "\n",
    "with open(\"./infused_test_set/id_to_en_marvl_dict.pickle\",'rb') as handle_2:\n",
    "    id_to_en_marvl_dict = pkl.load(handle_2)"
   ]
  },
  {
   "cell_type": "markdown",
   "metadata": {},
   "source": [
    "### Baseline"
   ]
  },
  {
   "cell_type": "code",
   "execution_count": 45,
   "metadata": {},
   "outputs": [
    {
     "data": {
      "text/plain": [
       "0.2634194772362136"
      ]
     },
     "execution_count": 45,
     "metadata": {},
     "output_type": "execute_result"
    }
   ],
   "source": [
    "compute_mean_cosine_similarity(list(id_to_en_marvl_dict.items()), embeddings_baseline)"
   ]
  },
  {
   "cell_type": "code",
   "execution_count": 46,
   "metadata": {},
   "outputs": [
    {
     "name": "stdout",
     "output_type": "stream",
     "text": [
      "All words | Mean cosine similarity = 0.27093752962862155\n",
      "All NOUNs | Mean cosine similarity = 0.2964528954075636\n",
      "All VERBs | Mean cosine similarity = 0.1912645551180642\n",
      "All ADJs | Mean cosine similarity = 0.2546986460569315\n",
      "All ADVs | Mean cosine similarity = 0.19206390762021452\n"
     ]
    }
   ],
   "source": [
    "compute_mean_cosine_similarity_wordnet(id_to_en_dict, embeddings_baseline_ft)"
   ]
  },
  {
   "cell_type": "markdown",
   "metadata": {},
   "source": [
    "### WIT pretraining"
   ]
  },
  {
   "cell_type": "code",
   "execution_count": 47,
   "metadata": {},
   "outputs": [],
   "source": [
    "embeddings_wit_id =  get_word_embeddings(\"/mnt/nas_home/mrgj4/final_repo/thesis-code/experiment_1/id/seed1/finetune/NLVR2_ctrl_muniter_base/pytorch_model_best.bin\")"
   ]
  },
  {
   "cell_type": "code",
   "execution_count": 48,
   "metadata": {},
   "outputs": [
    {
     "data": {
      "text/plain": [
       "0.2650132598827716"
      ]
     },
     "execution_count": 48,
     "metadata": {},
     "output_type": "execute_result"
    }
   ],
   "source": [
    "compute_mean_cosine_similarity(list(id_to_en_marvl_dict.items()), embeddings_wit_id)"
   ]
  },
  {
   "cell_type": "code",
   "execution_count": 49,
   "metadata": {},
   "outputs": [
    {
     "name": "stdout",
     "output_type": "stream",
     "text": [
      "All words | Mean cosine similarity = 0.2723488596419061\n",
      "All NOUNs | Mean cosine similarity = 0.2980598641464467\n",
      "All VERBs | Mean cosine similarity = 0.19266673897446576\n",
      "All ADJs | Mean cosine similarity = 0.2558594752883049\n",
      "All ADVs | Mean cosine similarity = 0.19032268647910253\n"
     ]
    }
   ],
   "source": [
    "compute_mean_cosine_similarity_wordnet(id_to_en_dict, embeddings_wit_id)"
   ]
  },
  {
   "cell_type": "markdown",
   "metadata": {},
   "source": [
    "### Best model - WIT pretraining with code-switching + code-switched finetuning"
   ]
  },
  {
   "cell_type": "code",
   "execution_count": 50,
   "metadata": {},
   "outputs": [],
   "source": [
    "embeddings_codeswitching_id =  get_word_embeddings(\"/mnt/nas_home/mrgj4/final_repo/thesis-code/experiment_3/id/seed1/pretrain_cs_finetune_cs/NLVR2_ctrl_muniter_base/pytorch_model_best.bin\")"
   ]
  },
  {
   "cell_type": "code",
   "execution_count": 51,
   "metadata": {},
   "outputs": [
    {
     "data": {
      "text/plain": [
       "0.2669301095054073"
      ]
     },
     "execution_count": 51,
     "metadata": {},
     "output_type": "execute_result"
    }
   ],
   "source": [
    "compute_mean_cosine_similarity(list(id_to_en_marvl_dict.items()), embeddings_codeswitching_id)"
   ]
  },
  {
   "cell_type": "code",
   "execution_count": 52,
   "metadata": {},
   "outputs": [
    {
     "name": "stdout",
     "output_type": "stream",
     "text": [
      "All words | Mean cosine similarity = 0.2732572265662238\n",
      "All NOUNs | Mean cosine similarity = 0.2988746051746351\n",
      "All VERBs | Mean cosine similarity = 0.19384401493943015\n",
      "All ADJs | Mean cosine similarity = 0.25659379923583076\n",
      "All ADVs | Mean cosine similarity = 0.1929276655653094\n"
     ]
    }
   ],
   "source": [
    "compute_mean_cosine_similarity_wordnet(id_to_en_dict, embeddings_codeswitching_id)"
   ]
  },
  {
   "cell_type": "markdown",
   "metadata": {},
   "source": [
    "## ZH"
   ]
  },
  {
   "cell_type": "code",
   "execution_count": 53,
   "metadata": {},
   "outputs": [],
   "source": [
    "with open(\"./panlex_dictionaries/zh_to_en_dict.pickle\",'rb') as handle_1:\n",
    "    zh_to_en_dict = pkl.load(handle_1)\n",
    "\n",
    "with open(\"./infused_test_set/zh_to_en_marvl_dict.pickle\",'rb') as handle_2:\n",
    "    zh_to_en_marvl_dict = pkl.load(handle_2)"
   ]
  },
  {
   "cell_type": "markdown",
   "metadata": {},
   "source": [
    "### Baseline"
   ]
  },
  {
   "cell_type": "code",
   "execution_count": 54,
   "metadata": {},
   "outputs": [
    {
     "data": {
      "text/plain": [
       "0.20628649625810794"
      ]
     },
     "execution_count": 54,
     "metadata": {},
     "output_type": "execute_result"
    }
   ],
   "source": [
    "compute_mean_cosine_similarity(list(zh_to_en_marvl_dict.items()), embeddings_baseline)"
   ]
  },
  {
   "cell_type": "code",
   "execution_count": 55,
   "metadata": {},
   "outputs": [
    {
     "name": "stdout",
     "output_type": "stream",
     "text": [
      "All words | Mean cosine similarity = 0.20053107023758296\n",
      "All NOUNs | Mean cosine similarity = 0.20857513535854397\n",
      "All VERBs | Mean cosine similarity = 0.15893877996625555\n",
      "All ADJs | Mean cosine similarity = 0.19798586701689852\n",
      "All ADVs | Mean cosine similarity = 0.1946136680236639\n"
     ]
    }
   ],
   "source": [
    "compute_mean_cosine_similarity_wordnet(zh_to_en_dict, embeddings_baseline_ft)"
   ]
  },
  {
   "cell_type": "markdown",
   "metadata": {},
   "source": [
    "### WIT pretraining"
   ]
  },
  {
   "cell_type": "code",
   "execution_count": 56,
   "metadata": {},
   "outputs": [],
   "source": [
    "embeddings_wit_zh =  get_word_embeddings(\"/mnt/nas_home/mrgj4/final_repo/thesis-code/experiment_1/zh/seed1/finetune/NLVR2_ctrl_muniter_base/pytorch_model_best.bin\")"
   ]
  },
  {
   "cell_type": "code",
   "execution_count": 57,
   "metadata": {},
   "outputs": [
    {
     "data": {
      "text/plain": [
       "0.20714019160213865"
      ]
     },
     "execution_count": 57,
     "metadata": {},
     "output_type": "execute_result"
    }
   ],
   "source": [
    "compute_mean_cosine_similarity(list(zh_to_en_marvl_dict.items()), embeddings_wit_zh)"
   ]
  },
  {
   "cell_type": "code",
   "execution_count": 59,
   "metadata": {},
   "outputs": [
    {
     "name": "stdout",
     "output_type": "stream",
     "text": [
      "All words | Mean cosine similarity = 0.20157428169215286\n",
      "All NOUNs | Mean cosine similarity = 0.20980931524383256\n",
      "All VERBs | Mean cosine similarity = 0.16049203230503462\n",
      "All ADJs | Mean cosine similarity = 0.19803184850985092\n",
      "All ADVs | Mean cosine similarity = 0.19441348640821782\n"
     ]
    }
   ],
   "source": [
    "compute_mean_cosine_similarity_wordnet(zh_to_en_dict, embeddings_wit_zh)"
   ]
  },
  {
   "cell_type": "markdown",
   "metadata": {},
   "source": [
    "### Best model - WIT pretraining with code-switching + code-switched finetuning"
   ]
  },
  {
   "cell_type": "code",
   "execution_count": 61,
   "metadata": {},
   "outputs": [],
   "source": [
    "embeddings_codeswitching_zh =  get_word_embeddings(\"/mnt/nas_home/mrgj4/final_repo/thesis-code/experiment_3/zh/seed1/pretrain_cs_finetune_cs/NLVR2_ctrl_muniter_base/pytorch_model_best.bin\")"
   ]
  },
  {
   "cell_type": "code",
   "execution_count": 62,
   "metadata": {},
   "outputs": [
    {
     "data": {
      "text/plain": [
       "0.20864392522868003"
      ]
     },
     "execution_count": 62,
     "metadata": {},
     "output_type": "execute_result"
    }
   ],
   "source": [
    "compute_mean_cosine_similarity(list(zh_to_en_marvl_dict.items()), embeddings_codeswitching_zh)"
   ]
  },
  {
   "cell_type": "code",
   "execution_count": 63,
   "metadata": {},
   "outputs": [
    {
     "name": "stdout",
     "output_type": "stream",
     "text": [
      "All words | Mean cosine similarity = 0.2020548308254375\n",
      "All NOUNs | Mean cosine similarity = 0.21032037653364355\n",
      "All VERBs | Mean cosine similarity = 0.1611949286628304\n",
      "All ADJs | Mean cosine similarity = 0.19818321678964237\n",
      "All ADVs | Mean cosine similarity = 0.19501665415094221\n"
     ]
    }
   ],
   "source": [
    "compute_mean_cosine_similarity_wordnet(zh_to_en_dict, embeddings_codeswitching_zh)"
   ]
  },
  {
   "cell_type": "code",
   "execution_count": null,
   "metadata": {},
   "outputs": [],
   "source": []
  }
 ],
 "metadata": {
  "kernelspec": {
   "display_name": "marvl_env",
   "language": "python",
   "name": "marvl_env"
  },
  "orig_nbformat": 4
 },
 "nbformat": 4,
 "nbformat_minor": 2
}
