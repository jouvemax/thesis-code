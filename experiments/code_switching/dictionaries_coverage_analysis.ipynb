{
 "cells": [
  {
   "cell_type": "code",
   "execution_count": 7,
   "metadata": {},
   "outputs": [],
   "source": [
    "import pandas as pd\n",
    "import pickle as pkl\n",
    "import json\n",
    "from random import random\n",
    "import jieba\n",
    "import string"
   ]
  },
  {
   "cell_type": "code",
   "execution_count": 9,
   "metadata": {},
   "outputs": [],
   "source": [
    "with open('/mnt/nas_home/mrgj4/marvl-code/data/en/annotations/train.jsonl', 'r', encoding=\"utf-8\") as json_file:\n",
    "    json_list = list(json_file)\n",
    "\n",
    "nlvr2_data = [json.loads(jline) for jline in json_list]\n",
    "\n",
    "with open(\"/mnt/nas_home/mrgj4/wit_dataset/infusion_exp/en_caption_to_pos.pickle\",'rb') as handle_1:\n",
    "    nlvr2_sentence_to_pos = pkl.load(handle_1)\n"
   ]
  },
  {
   "cell_type": "code",
   "execution_count": 10,
   "metadata": {},
   "outputs": [
    {
     "name": "stdout",
     "output_type": "stream",
     "text": [
      "1161773\n"
     ]
    }
   ],
   "source": [
    "nb_nlvr2_words = 0\n",
    "\n",
    "for entry in nlvr2_data:\n",
    "    sentence = entry[\"sentence\"]\n",
    "    sentence = sentence.translate(str.maketrans('', '', string.punctuation))\n",
    "    words = sentence.split(\" \")\n",
    "    nb_nlvr2_words += len(words)\n",
    "\n",
    "print(nb_nlvr2_words)"
   ]
  },
  {
   "cell_type": "code",
   "execution_count": 28,
   "metadata": {},
   "outputs": [],
   "source": [
    "def check_nlvr2_coverage(en_lang_dict, valid_pos_tag = set([\"ADV\", \"ADJ\", \"NOUN\", \"VERB\"])):\n",
    "    nb_changed = 0\n",
    "    entries_code_switched = set ()\n",
    "\n",
    "    for entry in nlvr2_data:\n",
    "\n",
    "        sentence = entry[\"sentence\"]\n",
    "\n",
    "        if \"\\n\" in sentence:\n",
    "            sentence = sentence.replace(\"\\n\", \" \")\n",
    "\n",
    "        if sentence in nlvr2_sentence_to_pos:\n",
    "            pos_tokens = nlvr2_sentence_to_pos[sentence]\n",
    "        else:\n",
    "            continue\n",
    "\n",
    "        init_sentence = str(sentence)\n",
    "\n",
    "        for init_word, pos in pos_tokens:\n",
    "            if pos in valid_pos_tag:\n",
    "                word = init_word.lower()\n",
    "                dict_pair = (word, pos)\n",
    "                if dict_pair in en_lang_dict:\n",
    "                    entries_code_switched.add(dict_pair)\n",
    "                    nb_changed += 1\n",
    "                    if random() < 0.5:\n",
    "                        new_word = en_lang_dict[dict_pair]\n",
    "                        if init_word[0].isupper():\n",
    "                            new_word = new_word.capitalize()\n",
    "                        sentence = sentence.replace(init_word, new_word)\n",
    "        \n",
    "    return nb_changed, entries_code_switched"
   ]
  },
  {
   "cell_type": "code",
   "execution_count": 30,
   "metadata": {},
   "outputs": [],
   "source": [
    "def code_switch_word(init_word, caption, dict_pair, dictionary):\n",
    "    if random() < 0.5:\n",
    "        new_word = dictionary[dict_pair]\n",
    "        if init_word[0].isupper():\n",
    "            new_word = new_word.capitalize()\n",
    "        caption = caption.replace(init_word, new_word)\n",
    "    return caption"
   ]
  },
  {
   "cell_type": "code",
   "execution_count": 31,
   "metadata": {},
   "outputs": [],
   "source": [
    "def check_WIT_captions_coverage(captions, lang_en_dict, lang_caption_to_pos, lang_word_to_reduced_version=None, valid_pos_tag = set([\"ADV\", \"ADJ\", \"NOUN\", \"VERB\"])):\n",
    "\n",
    "    nb_changed = 0\n",
    "    nb_changed_after_reduction = 0\n",
    "    entries_code_switched = set ()\n",
    "\n",
    "    for key, caption in captions.items():\n",
    "\n",
    "        if \"\\n\" in caption:\n",
    "            caption = caption.replace(\"\\n\", \" \")\n",
    "\n",
    "        if caption in lang_caption_to_pos:\n",
    "            pos_tokens = lang_caption_to_pos[caption]\n",
    "\n",
    "\n",
    "            for init_word, pos in pos_tokens:\n",
    "                if pos in valid_pos_tag:\n",
    "                    word = init_word.lower()\n",
    "                    dict_pair = (word, pos)\n",
    "                    if dict_pair in lang_en_dict:\n",
    "                        nb_changed += 1\n",
    "                        entries_code_switched.add(dict_pair)\n",
    "                        if random() < 0.5:\n",
    "                            new_word = lang_en_dict[dict_pair]\n",
    "                            if init_word[0].isupper():\n",
    "                                new_word = new_word.capitalize()\n",
    "                            caption = caption.replace(init_word, new_word)\n",
    "\n",
    "                    elif lang_word_to_reduced_version:\n",
    "                        if word in lang_word_to_reduced_version:\n",
    "                            reduced_word = lang_word_to_reduced_version[word]\n",
    "\n",
    "                            dict_pair = (reduced_word, pos)\n",
    "                            if dict_pair in lang_en_dict:\n",
    "                                entries_code_switched.add(dict_pair)\n",
    "                                nb_changed += 1\n",
    "                                nb_changed_after_reduction +=1\n",
    "                                if random() < 0.5:\n",
    "                                    new_word = lang_en_dict[dict_pair]\n",
    "                                    if init_word[0].isupper():\n",
    "                                        new_word = new_word.capitalize()\n",
    "                                    caption = caption.replace(init_word, new_word)\n",
    "\n",
    "    return nb_changed, nb_changed_after_reduction, entries_code_switched"
   ]
  },
  {
   "cell_type": "code",
   "execution_count": 32,
   "metadata": {},
   "outputs": [],
   "source": [
    "def count_nb_words(captions):\n",
    "    nb_words = 0\n",
    "    for key, caption in captions.items():\n",
    "        caption = caption.translate(str.maketrans('', '', string.punctuation))\n",
    "        words = caption.split(\" \")\n",
    "        nb_words += len(words)\n",
    "    return nb_words"
   ]
  },
  {
   "cell_type": "code",
   "execution_count": 33,
   "metadata": {},
   "outputs": [],
   "source": [
    "def get_nb_noncomposite_words(dictionary):\n",
    "    non_composite_word = 0\n",
    "    for key in dictionary.keys():\n",
    "        if \" \" not in key[0]:\n",
    "           non_composite_word += 1\n",
    "    return non_composite_word"
   ]
  },
  {
   "cell_type": "markdown",
   "metadata": {},
   "source": [
    "### SW"
   ]
  },
  {
   "cell_type": "code",
   "execution_count": 16,
   "metadata": {},
   "outputs": [],
   "source": [
    "with open('/mnt/nas_home/mrgj4/wit_dataset/captions/sw_captions.json', 'r', encoding=\"utf-8\") as json_file:\n",
    "    sw_captions = json.load(json_file)\n",
    "\n",
    "with open(\"/mnt/nas_home/mrgj4/wit_dataset/infusion_exp/sw_caption_to_pos.pickle\",'rb') as handle_1:\n",
    "    sw_caption_to_pos = pkl.load(handle_1)\n",
    "\n",
    "with open(\"./panlex_dictionaries/sw_to_en_dict.pickle\",'rb') as handle_2:\n",
    "    sw_to_en_dict = pkl.load(handle_2)\n",
    "\n",
    "with open(\"./panlex_dictionaries/en_to_sw_dict.pickle\",'rb') as handle_3:\n",
    "    en_to_sw_dict = pkl.load(handle_3)"
   ]
  },
  {
   "cell_type": "markdown",
   "metadata": {},
   "source": [
    "SW -> EN (WIT captions)"
   ]
  },
  {
   "cell_type": "code",
   "execution_count": 37,
   "metadata": {},
   "outputs": [
    {
     "name": "stdout",
     "output_type": "stream",
     "text": [
      "There are 8347 non-composite words in the dictionary.\n"
     ]
    }
   ],
   "source": [
    "non_composite_words_sw_en = get_nb_noncomposite_words(sw_to_en_dict)\n",
    "print(\"There are {n} non-composite words in the dictionary.\".format(n = non_composite_words_sw_en))"
   ]
  },
  {
   "cell_type": "code",
   "execution_count": 29,
   "metadata": {},
   "outputs": [],
   "source": [
    "nb_changed_sw_captions, nb_changed_after_reduction_sw, entries_code_switched_sw = check_WIT_captions_coverage(sw_captions, \n",
    "                                                                                    sw_to_en_dict, \n",
    "                                                                                    sw_caption_to_pos)"
   ]
  },
  {
   "cell_type": "code",
   "execution_count": 38,
   "metadata": {},
   "outputs": [
    {
     "name": "stdout",
     "output_type": "stream",
     "text": [
      "There are 2004 distinct Swahili words that were code-switched.\n",
      "It corresponds to 24.008625853600098% of the total dictionary words\n"
     ]
    }
   ],
   "source": [
    "print(\"There are {n} distinct Swahili words that were code-switched.\".format(n = len(entries_code_switched_sw)))\n",
    "print(\"It corresponds to {x}% of the total dictionary words\".format(x = len(entries_code_switched_sw) / non_composite_words_sw_en * 100))"
   ]
  },
  {
   "cell_type": "code",
   "execution_count": 12,
   "metadata": {},
   "outputs": [
    {
     "name": "stdout",
     "output_type": "stream",
     "text": [
      "# 24733 words changed | # 128350 total words.\n",
      "19.26996493961823 % of Swahili words can be code-switched to English.\n"
     ]
    }
   ],
   "source": [
    "nb_words_sw_captions = count_nb_words(sw_captions)\n",
    "\n",
    "print(\"# {n_1} words changed | # {n_2} total words.\".format(n_1 = nb_changed_sw_captions, n_2 = nb_words_sw_captions))\n",
    "print(\"{n} % of Swahili words can be code-switched to English.\".format(n = nb_changed_sw_captions / nb_words_sw_captions * 100))"
   ]
  },
  {
   "cell_type": "markdown",
   "metadata": {},
   "source": [
    "EN -> SW (NLVR2 sentences)"
   ]
  },
  {
   "cell_type": "code",
   "execution_count": 40,
   "metadata": {},
   "outputs": [
    {
     "name": "stdout",
     "output_type": "stream",
     "text": [
      "There are 12839 non-composite words in the dictionary.\n"
     ]
    }
   ],
   "source": [
    "non_composite_word_en_sw = get_nb_noncomposite_words(en_to_sw_dict)\n",
    "print(\"There are {n} non-composite words in the dictionary.\".format(n = non_composite_word_en_sw))"
   ]
  },
  {
   "cell_type": "code",
   "execution_count": 31,
   "metadata": {},
   "outputs": [],
   "source": [
    "nb_changed_to_sw, entries_code_switched_sw_nlvr2 = check_nlvr2_coverage(en_to_sw_dict)"
   ]
  },
  {
   "cell_type": "code",
   "execution_count": 41,
   "metadata": {},
   "outputs": [
    {
     "name": "stdout",
     "output_type": "stream",
     "text": [
      "There are 2158 distinct English words that were code-switched.\n",
      "It corresponds to 16.808162629488276% of the total dictionary words\n"
     ]
    }
   ],
   "source": [
    "print(\"There are {n} distinct English words that were code-switched.\".format(n = len(entries_code_switched_sw_nlvr2)))\n",
    "print(\"It corresponds to {x}% of the total dictionary words\".format(x = len(entries_code_switched_sw_nlvr2) / non_composite_word_en_sw * 100))"
   ]
  },
  {
   "cell_type": "code",
   "execution_count": 42,
   "metadata": {},
   "outputs": [
    {
     "name": "stdout",
     "output_type": "stream",
     "text": [
      "# 331843 words changed | # 1161773 total words.\n",
      "28.563497344145546 % of English words can be code-switched to Swahili.\n"
     ]
    }
   ],
   "source": [
    "print(\"# {n_1} words changed | # {n_2} total words.\".format(n_1 = nb_changed_to_sw, n_2 = nb_nlvr2_words))\n",
    "print(\"{n} % of English words can be code-switched to Swahili.\".format(n = nb_changed_to_sw / nb_nlvr2_words * 100))"
   ]
  },
  {
   "cell_type": "markdown",
   "metadata": {},
   "source": [
    "### TA"
   ]
  },
  {
   "cell_type": "code",
   "execution_count": 43,
   "metadata": {},
   "outputs": [],
   "source": [
    "with open('/mnt/nas_home/mrgj4/wit_dataset/captions/ta_captions.json', 'r', encoding=\"utf-8\") as json_file:\n",
    "    ta_captions = json.load(json_file)\n",
    "\n",
    "with open(\"/mnt/nas_home/mrgj4/wit_dataset/infusion_exp/ta_caption_to_pos.pickle\",'rb') as handle_1:\n",
    "    ta_caption_to_pos = pkl.load(handle_1)\n",
    "\n",
    "with open(\"./panlex_dictionaries/ta_to_en_dict.pickle\",'rb') as handle_2:\n",
    "    ta_to_en_dict = pkl.load(handle_2)\n",
    "\n",
    "with open(\"./panlex_dictionaries/en_to_ta_dict.pickle\",'rb') as handle_3:\n",
    "    en_to_ta_dict = pkl.load(handle_3)\n",
    "\n",
    "with open(\"./panlex_dictionaries/ta_word_to_reduced_version.pickle\",'rb') as handle_4:\n",
    "    ta_word_to_reduced_version = pkl.load(handle_4)"
   ]
  },
  {
   "cell_type": "markdown",
   "metadata": {},
   "source": [
    "TA -> EN (WIT captions)"
   ]
  },
  {
   "cell_type": "code",
   "execution_count": 44,
   "metadata": {},
   "outputs": [
    {
     "name": "stdout",
     "output_type": "stream",
     "text": [
      "There are 8889 non-composite words in the dictionary.\n"
     ]
    }
   ],
   "source": [
    "non_composite_word_ta_en = get_nb_noncomposite_words(ta_to_en_dict)\n",
    "print(\"There are {n} non-composite words in the dictionary.\".format(n = non_composite_word_ta_en))"
   ]
  },
  {
   "cell_type": "code",
   "execution_count": 45,
   "metadata": {},
   "outputs": [],
   "source": [
    "nb_changed_ta_captions, nb_changed_after_reduction_ta, entries_code_switched_ta = check_WIT_captions_coverage(ta_captions, \n",
    "                                                                                    ta_to_en_dict, \n",
    "                                                                                    ta_caption_to_pos,\n",
    "                                                                                    ta_word_to_reduced_version\n",
    "                                                                                    )"
   ]
  },
  {
   "cell_type": "code",
   "execution_count": 46,
   "metadata": {},
   "outputs": [
    {
     "name": "stdout",
     "output_type": "stream",
     "text": [
      "There are 2635 distinct Tamil words that were code-switched.\n",
      "It corresponds to 29.64337945775678% of the total dictionary words\n"
     ]
    }
   ],
   "source": [
    "print(\"There are {n} distinct Tamil words that were code-switched.\".format(n = len(entries_code_switched_ta)))\n",
    "print(\"It corresponds to {x}% of the total dictionary words\".format(x = len(entries_code_switched_ta) / non_composite_word_ta_en * 100))"
   ]
  },
  {
   "cell_type": "code",
   "execution_count": 48,
   "metadata": {},
   "outputs": [
    {
     "name": "stdout",
     "output_type": "stream",
     "text": [
      "# 42885 words changed | # 4890 words changed after reduction | # 285031 total words.\n",
      "15.045731867761752 % of Tamil words can be code-switched to English.\n"
     ]
    }
   ],
   "source": [
    "nb_words_ta_captions = count_nb_words(ta_captions)\n",
    "\n",
    "print(\"# {n_1} words changed | # {n_2} words changed after reduction | # {n_3} total words.\".format(n_1 = nb_changed_ta_captions, \n",
    "                                                                                                   n_2 = nb_changed_after_reduction_ta,\n",
    "                                                                                                   n_3 = nb_words_ta_captions))\n",
    "print(\"{n} % of Tamil words can be code-switched to English.\".format(n = nb_changed_ta_captions / nb_words_ta_captions * 100))"
   ]
  },
  {
   "cell_type": "markdown",
   "metadata": {},
   "source": [
    "EN -> TA (NLVR2 sentences)"
   ]
  },
  {
   "cell_type": "code",
   "execution_count": 50,
   "metadata": {},
   "outputs": [
    {
     "name": "stdout",
     "output_type": "stream",
     "text": [
      "There are 14615 non-composite words in the dictionary.\n"
     ]
    }
   ],
   "source": [
    "non_composite_word_en_ta = get_nb_noncomposite_words(en_to_ta_dict)\n",
    "print(\"There are {n} non-composite words in the dictionary.\".format(n = non_composite_word_en_ta))"
   ]
  },
  {
   "cell_type": "code",
   "execution_count": 51,
   "metadata": {},
   "outputs": [],
   "source": [
    "nb_changed_to_ta, entries_code_switched_ta_nlvr2 = check_nlvr2_coverage(en_to_ta_dict)"
   ]
  },
  {
   "cell_type": "code",
   "execution_count": 52,
   "metadata": {},
   "outputs": [
    {
     "name": "stdout",
     "output_type": "stream",
     "text": [
      "There are 2236 distinct English words that were code-switched.\n",
      "It corresponds to 15.299349982894286% of the total dictionary words\n"
     ]
    }
   ],
   "source": [
    "print(\"There are {n} distinct English words that were code-switched.\".format(n = len(entries_code_switched_ta_nlvr2)))\n",
    "print(\"It corresponds to {x}% of the total dictionary words\".format(x = len(entries_code_switched_ta_nlvr2) / non_composite_word_en_ta * 100))"
   ]
  },
  {
   "cell_type": "code",
   "execution_count": 63,
   "metadata": {},
   "outputs": [
    {
     "name": "stdout",
     "output_type": "stream",
     "text": [
      "# 339761 words changed | # 1161773 total words.\n",
      "29.24504184552404 % of English words can be code-switched to Tamil.\n"
     ]
    }
   ],
   "source": [
    "print(\"# {n_1} words changed | # {n_2} total words.\".format(n_1 = nb_changed_to_ta, n_2 = nb_nlvr2_words))\n",
    "print(\"{n} % of English words can be code-switched to Tamil.\".format(n = nb_changed_to_ta / nb_nlvr2_words * 100))"
   ]
  },
  {
   "cell_type": "markdown",
   "metadata": {},
   "source": [
    "### TR"
   ]
  },
  {
   "cell_type": "code",
   "execution_count": 17,
   "metadata": {},
   "outputs": [],
   "source": [
    "with open('/mnt/nas_home/mrgj4/wit_dataset/captions/tr_captions.json', 'r', encoding=\"utf-8\") as json_file:\n",
    "    tr_captions = json.load(json_file)\n",
    "\n",
    "with open(\"/mnt/nas_home/mrgj4/wit_dataset/infusion_exp/tr_caption_to_pos.pickle\",'rb') as handle_1:\n",
    "    tr_caption_to_pos = pkl.load(handle_1)\n",
    "\n",
    "with open(\"./panlex_dictionaries/tr_to_en_dict.pickle\",'rb') as handle_2:\n",
    "    tr_to_en_dict = pkl.load(handle_2)\n",
    "\n",
    "with open(\"./panlex_dictionaries/en_to_tr_dict.pickle\",'rb') as handle_3:\n",
    "    en_to_tr_dict = pkl.load(handle_3)\n",
    "\n",
    "with open(\"./panlex_dictionaries/tr_word_to_reduced_version.pickle\",'rb') as handle_4:\n",
    "    tr_word_to_reduced_version = pkl.load(handle_4)"
   ]
  },
  {
   "cell_type": "markdown",
   "metadata": {},
   "source": [
    "TR -> EN (WIT captions)"
   ]
  },
  {
   "cell_type": "code",
   "execution_count": 18,
   "metadata": {},
   "outputs": [
    {
     "name": "stdout",
     "output_type": "stream",
     "text": [
      "There are 13649 non-composite words in the dictionary.\n"
     ]
    }
   ],
   "source": [
    "non_composite_word_tr_en = get_nb_noncomposite_words(tr_to_en_dict)\n",
    "print(\"There are {n} non-composite words in the dictionary.\".format(n = non_composite_word_tr_en))"
   ]
  },
  {
   "cell_type": "code",
   "execution_count": 19,
   "metadata": {},
   "outputs": [],
   "source": [
    "nb_changed_tr_captions, nb_changed_after_reduction_tr, entries_code_switched_tr = check_WIT_captions_coverage(tr_captions, \n",
    "                                                                                    tr_to_en_dict, \n",
    "                                                                                    tr_caption_to_pos,\n",
    "                                                                                    tr_word_to_reduced_version\n",
    "                                                                                    )"
   ]
  },
  {
   "cell_type": "code",
   "execution_count": 20,
   "metadata": {},
   "outputs": [
    {
     "name": "stdout",
     "output_type": "stream",
     "text": [
      "There are 6597 distinct Turkish words that were code-switched.\n",
      "It corresponds to 48.33321122426552% of the total dictionary words\n"
     ]
    }
   ],
   "source": [
    "print(\"There are {n} distinct Turkish words that were code-switched.\".format(n = len(entries_code_switched_tr)))\n",
    "print(\"It corresponds to {x}% of the total dictionary words\".format(x = len(entries_code_switched_tr) / non_composite_word_tr_en * 100))"
   ]
  },
  {
   "cell_type": "code",
   "execution_count": 21,
   "metadata": {},
   "outputs": [
    {
     "name": "stdout",
     "output_type": "stream",
     "text": [
      "# 235050 words changed | # 148810 words changed after reduction | # 766292 total words.\n",
      "30.673685749035617 % of Turkish words can be code-switched to English.\n"
     ]
    }
   ],
   "source": [
    "nb_words_tr_captions = count_nb_words(tr_captions)\n",
    "\n",
    "print(\"# {n_1} words changed | # {n_2} words changed after reduction | # {n_3} total words.\".format(n_1 = nb_changed_tr_captions, \n",
    "                                                                                                   n_2 = nb_changed_after_reduction_tr,\n",
    "                                                                                                   n_3 = nb_words_tr_captions))\n",
    "print(\"{n} % of Turkish words can be code-switched to English.\".format(n = nb_changed_tr_captions / nb_words_tr_captions * 100))"
   ]
  },
  {
   "cell_type": "markdown",
   "metadata": {},
   "source": [
    "EN -> TR (NLVR2 sentences)"
   ]
  },
  {
   "cell_type": "code",
   "execution_count": 22,
   "metadata": {},
   "outputs": [
    {
     "name": "stdout",
     "output_type": "stream",
     "text": [
      "There are 22691 non-composite words in the dictionary.\n"
     ]
    }
   ],
   "source": [
    "non_composite_word_en_tr = get_nb_noncomposite_words(en_to_tr_dict)\n",
    "print(\"There are {n} non-composite words in the dictionary.\".format(n = non_composite_word_en_tr))"
   ]
  },
  {
   "cell_type": "code",
   "execution_count": 23,
   "metadata": {},
   "outputs": [],
   "source": [
    "nb_changed_to_tr, entries_code_switched_tr_nlvr2 = check_nlvr2_coverage(en_to_tr_dict)"
   ]
  },
  {
   "cell_type": "code",
   "execution_count": 24,
   "metadata": {},
   "outputs": [
    {
     "name": "stdout",
     "output_type": "stream",
     "text": [
      "There are 2572 distinct English words that were code-switched.\n",
      "It corresponds to 11.334890485214402% of the total dictionary words\n"
     ]
    }
   ],
   "source": [
    "print(\"There are {n} distinct English words that were code-switched.\".format(n = len(entries_code_switched_tr_nlvr2)))\n",
    "print(\"It corresponds to {x}% of the total dictionary words\".format(x = len(entries_code_switched_tr_nlvr2) / non_composite_word_en_tr * 100))"
   ]
  },
  {
   "cell_type": "code",
   "execution_count": 25,
   "metadata": {},
   "outputs": [
    {
     "name": "stdout",
     "output_type": "stream",
     "text": [
      "# 349236 words changed | # 1161773 total words.\n",
      "30.060605643271103 % of English words can be code-switched to Turkish.\n"
     ]
    }
   ],
   "source": [
    "print(\"# {n_1} words changed | # {n_2} total words.\".format(n_1 = nb_changed_to_tr, n_2 = nb_nlvr2_words))\n",
    "print(\"{n} % of English words can be code-switched to Turkish.\".format(n = nb_changed_to_tr / nb_nlvr2_words * 100))"
   ]
  },
  {
   "cell_type": "markdown",
   "metadata": {},
   "source": [
    "### ID"
   ]
  },
  {
   "cell_type": "code",
   "execution_count": 65,
   "metadata": {},
   "outputs": [],
   "source": [
    "with open('/mnt/nas_home/mrgj4/wit_dataset/captions/id_captions.json', 'r', encoding=\"utf-8\") as json_file:\n",
    "    id_captions = json.load(json_file)\n",
    "\n",
    "with open(\"/mnt/nas_home/mrgj4/wit_dataset/infusion_exp/id_caption_to_pos.pickle\",'rb') as handle_1:\n",
    "    id_caption_to_pos = pkl.load(handle_1)\n",
    "\n",
    "with open(\"./panlex_dictionaries/id_to_en_dict.pickle\",'rb') as handle_2:\n",
    "    id_to_en_dict = pkl.load(handle_2)\n",
    "\n",
    "with open(\"./panlex_dictionaries/en_to_id_dict.pickle\",'rb') as handle_3:\n",
    "    en_to_id_dict = pkl.load(handle_3)"
   ]
  },
  {
   "cell_type": "markdown",
   "metadata": {},
   "source": [
    "ID -> EN (WIT captions)"
   ]
  },
  {
   "cell_type": "code",
   "execution_count": 66,
   "metadata": {},
   "outputs": [
    {
     "name": "stdout",
     "output_type": "stream",
     "text": [
      "There are 11251 non-composite words in the dictionary.\n"
     ]
    }
   ],
   "source": [
    "non_composite_word_id_en = get_nb_noncomposite_words(id_to_en_dict)\n",
    "print(\"There are {n} non-composite words in the dictionary.\".format(n = non_composite_word_id_en))"
   ]
  },
  {
   "cell_type": "code",
   "execution_count": 67,
   "metadata": {},
   "outputs": [],
   "source": [
    "nb_changed_id_captions, nb_changed_after_reduction_id, entries_code_switched_id = check_WIT_captions_coverage(id_captions, \n",
    "                                                                                    id_to_en_dict,\n",
    "                                                                                    id_caption_to_pos)"
   ]
  },
  {
   "cell_type": "code",
   "execution_count": 81,
   "metadata": {},
   "outputs": [
    {
     "name": "stdout",
     "output_type": "stream",
     "text": [
      "There are 5787 distinct Indonesian words that were code-switched.\n",
      "It corresponds to 51.435427961958936% of the total dictionary words\n"
     ]
    }
   ],
   "source": [
    "print(\"There are {n} distinct Indonesian words that were code-switched.\".format(n = len(entries_code_switched_id)))\n",
    "print(\"It corresponds to {x}% of the total dictionary words\".format(x = len(entries_code_switched_id) / non_composite_word_id_en * 100))"
   ]
  },
  {
   "cell_type": "code",
   "execution_count": 69,
   "metadata": {},
   "outputs": [
    {
     "name": "stdout",
     "output_type": "stream",
     "text": [
      "# 215227 words changed | # 1053265 total words.\n",
      "20.434268678822516 % of Indonesian words can be code-switched to English.\n"
     ]
    }
   ],
   "source": [
    "nb_words_id_captions = count_nb_words(id_captions)\n",
    "\n",
    "print(\"# {n_1} words changed | # {n_2} total words.\".format(n_1 = nb_changed_id_captions, n_2 = nb_words_id_captions))\n",
    "print(\"{n} % of Indonesian words can be code-switched to English.\".format(n = nb_changed_id_captions / nb_words_id_captions * 100))"
   ]
  },
  {
   "cell_type": "markdown",
   "metadata": {},
   "source": [
    "EN -> ID (NLVR2 sentences)"
   ]
  },
  {
   "cell_type": "code",
   "execution_count": 70,
   "metadata": {},
   "outputs": [
    {
     "name": "stdout",
     "output_type": "stream",
     "text": [
      "There are 20574 non-composite words in the dictionary.\n"
     ]
    }
   ],
   "source": [
    "non_composite_word_en_id = get_nb_noncomposite_words(en_to_id_dict)\n",
    "print(\"There are {n} non-composite words in the dictionary.\".format(n = non_composite_word_en_id))"
   ]
  },
  {
   "cell_type": "code",
   "execution_count": 71,
   "metadata": {},
   "outputs": [],
   "source": [
    "nb_changed_to_id, entries_code_switched_id_nlvr2 = check_nlvr2_coverage(en_to_id_dict)"
   ]
  },
  {
   "cell_type": "code",
   "execution_count": 72,
   "metadata": {},
   "outputs": [
    {
     "name": "stdout",
     "output_type": "stream",
     "text": [
      "There are 2542 distinct English words that were code-switched.\n",
      "It corresponds to 12.355400019442014% of the total dictionary words\n"
     ]
    }
   ],
   "source": [
    "print(\"There are {n} distinct English words that were code-switched.\".format(n = len(entries_code_switched_id_nlvr2)))\n",
    "print(\"It corresponds to {x}% of the total dictionary words\".format(x = len(entries_code_switched_id_nlvr2) / non_composite_word_en_id * 100))"
   ]
  },
  {
   "cell_type": "code",
   "execution_count": 78,
   "metadata": {},
   "outputs": [
    {
     "name": "stdout",
     "output_type": "stream",
     "text": [
      "# 345980 words changed | # 1161773 total words.\n",
      "29.780344352984617 % of English words can be code-switched to Indonesian.\n"
     ]
    }
   ],
   "source": [
    "print(\"# {n_1} words changed | # {n_2} total words.\".format(n_1 = nb_changed_to_id, n_2 = nb_nlvr2_words))\n",
    "print(\"{n} % of English words can be code-switched to Indonesian.\".format(n = nb_changed_to_id / nb_nlvr2_words * 100))"
   ]
  },
  {
   "cell_type": "markdown",
   "metadata": {},
   "source": [
    "### ZH"
   ]
  },
  {
   "cell_type": "code",
   "execution_count": 73,
   "metadata": {},
   "outputs": [],
   "source": [
    "with open('/mnt/nas_home/mrgj4/wit_dataset/captions/zh_captions.json', 'r', encoding=\"utf-8\") as json_file:\n",
    "    zh_captions = json.load(json_file)\n",
    "\n",
    "with open(\"/mnt/nas_home/mrgj4/wit_dataset/infusion_exp/zh_caption_to_pos.pickle\",'rb') as handle_1:\n",
    "    zh_caption_to_pos = pkl.load(handle_1)\n",
    "\n",
    "with open(\"./panlex_dictionaries/zh_to_en_dict.pickle\",'rb') as handle_2:\n",
    "    zh_to_en_dict = pkl.load(handle_2)\n",
    "\n",
    "with open(\"./panlex_dictionaries/en_to_zh_dict.pickle\",'rb') as handle_3:\n",
    "    en_to_zh_dict = pkl.load(handle_3)"
   ]
  },
  {
   "cell_type": "markdown",
   "metadata": {},
   "source": [
    "ZH -> EN (WIT captions)"
   ]
  },
  {
   "cell_type": "code",
   "execution_count": 74,
   "metadata": {},
   "outputs": [
    {
     "name": "stdout",
     "output_type": "stream",
     "text": [
      "There are 29637 non-composite words in the dictionary.\n"
     ]
    }
   ],
   "source": [
    "non_composite_word_zh_en = get_nb_noncomposite_words(zh_to_en_dict)\n",
    "print(\"There are {n} non-composite words in the dictionary.\".format(n = non_composite_word_zh_en))"
   ]
  },
  {
   "cell_type": "code",
   "execution_count": 75,
   "metadata": {},
   "outputs": [],
   "source": [
    "nb_changed_zh_captions, nb_changed_after_reduction_zh, entries_code_switched_zh = check_WIT_captions_coverage(zh_captions, \n",
    "                                                                                    zh_to_en_dict, \n",
    "                                                                                    zh_caption_to_pos)"
   ]
  },
  {
   "cell_type": "code",
   "execution_count": 76,
   "metadata": {},
   "outputs": [
    {
     "name": "stdout",
     "output_type": "stream",
     "text": [
      "There are 8597 distinct Mandarin Chinese words that were code-switched.\n",
      "It corresponds to 29.007659344737995% of the total dictionary words\n"
     ]
    }
   ],
   "source": [
    "print(\"There are {n} distinct Mandarin Chinese words that were code-switched.\".format(n = len(entries_code_switched_zh)))\n",
    "print(\"It corresponds to {x}% of the total dictionary words\".format(x = len(entries_code_switched_zh) / non_composite_word_zh_en * 100))"
   ]
  },
  {
   "cell_type": "code",
   "execution_count": 77,
   "metadata": {},
   "outputs": [
    {
     "name": "stderr",
     "output_type": "stream",
     "text": [
      "Building prefix dict from the default dictionary ...\n",
      "Loading model from cache /tmp/jieba.cache\n",
      "Loading model cost 0.997 seconds.\n",
      "Prefix dict has been built successfully.\n"
     ]
    },
    {
     "name": "stdout",
     "output_type": "stream",
     "text": [
      "# 268467 words changed | # 1213778 total words.\n",
      "22.118295108331175 % of Chinese words can be code-switched to English.\n"
     ]
    }
   ],
   "source": [
    "nb_words_zh_captions = 0\n",
    "for key, caption in zh_captions.items():\n",
    "    words = jieba.lcut(caption)\n",
    "    nb_words_zh_captions += len(words)\n",
    "\n",
    "\n",
    "print(\"# {n_1} words changed | # {n_2} total words.\".format(n_1 = nb_changed_zh_captions, n_2 = nb_words_zh_captions))\n",
    "print(\"{n} % of Chinese words can be code-switched to English.\".format(n = nb_changed_zh_captions / nb_words_zh_captions * 100))"
   ]
  },
  {
   "cell_type": "markdown",
   "metadata": {},
   "source": [
    "EN -> ZH (NLVR2 sentences)"
   ]
  },
  {
   "cell_type": "code",
   "execution_count": 78,
   "metadata": {},
   "outputs": [
    {
     "name": "stdout",
     "output_type": "stream",
     "text": [
      "There are 28586 non-composite words in the dictionary.\n"
     ]
    }
   ],
   "source": [
    "non_composite_word_en_zh = get_nb_noncomposite_words(en_to_zh_dict)\n",
    "print(\"There are {n} non-composite words in the dictionary.\".format(n = non_composite_word_en_zh))"
   ]
  },
  {
   "cell_type": "code",
   "execution_count": 79,
   "metadata": {},
   "outputs": [],
   "source": [
    "nb_changed_to_zh, entries_code_switched_zh_nlvr2 = check_nlvr2_coverage(en_to_zh_dict)"
   ]
  },
  {
   "cell_type": "code",
   "execution_count": 80,
   "metadata": {},
   "outputs": [
    {
     "name": "stdout",
     "output_type": "stream",
     "text": [
      "There are 2701 distinct English words that were code-switched.\n",
      "It corresponds to 9.448681172601974% of the total dictionary words\n"
     ]
    }
   ],
   "source": [
    "print(\"There are {n} distinct English words that were code-switched.\".format(n = len(entries_code_switched_zh_nlvr2)))\n",
    "print(\"It corresponds to {x}% of the total dictionary words\".format(x = len(entries_code_switched_zh_nlvr2) / non_composite_word_en_zh * 100))"
   ]
  },
  {
   "cell_type": "code",
   "execution_count": 84,
   "metadata": {},
   "outputs": [
    {
     "name": "stdout",
     "output_type": "stream",
     "text": [
      "# 354989 words changed | # 1161773 total words.\n",
      "30.555797044689452 % of English words can be code-switched to Chinese.\n"
     ]
    }
   ],
   "source": [
    "print(\"# {n_1} words changed | # {n_2} total words.\".format(n_1 = nb_changed_to_zh, n_2 = nb_nlvr2_words))\n",
    "print(\"{n} % of English words can be code-switched to Chinese.\".format(n = nb_changed_to_zh / nb_nlvr2_words * 100))"
   ]
  },
  {
   "cell_type": "markdown",
   "metadata": {},
   "source": [
    "### TR - NOUNs only"
   ]
  },
  {
   "cell_type": "markdown",
   "metadata": {},
   "source": [
    "TR -> EN (WIT captions)"
   ]
  },
  {
   "cell_type": "code",
   "execution_count": 34,
   "metadata": {},
   "outputs": [
    {
     "name": "stdout",
     "output_type": "stream",
     "text": [
      "There are 13649 non-composite words in the dictionary.\n"
     ]
    }
   ],
   "source": [
    "non_composite_word_tr_en = get_nb_noncomposite_words(tr_to_en_dict)\n",
    "print(\"There are {n} non-composite words in the dictionary.\".format(n = non_composite_word_tr_en))"
   ]
  },
  {
   "cell_type": "code",
   "execution_count": 35,
   "metadata": {},
   "outputs": [],
   "source": [
    "nb_changed_tr_captions, nb_changed_after_reduction_tr, entries_code_switched_tr = check_WIT_captions_coverage(tr_captions, \n",
    "                                                                                    tr_to_en_dict, \n",
    "                                                                                    tr_caption_to_pos,\n",
    "                                                                                    tr_word_to_reduced_version,\n",
    "                                                                                    valid_pos_tag = set([\"NOUN\"])\n",
    "                                                                                    )"
   ]
  },
  {
   "cell_type": "code",
   "execution_count": 36,
   "metadata": {},
   "outputs": [
    {
     "name": "stdout",
     "output_type": "stream",
     "text": [
      "There are 4733 distinct Turkish words that were code-switched.\n",
      "It corresponds to 34.67653307934647% of the total dictionary words\n"
     ]
    }
   ],
   "source": [
    "print(\"There are {n} distinct Turkish words that were code-switched.\".format(n = len(entries_code_switched_tr)))\n",
    "print(\"It corresponds to {x}% of the total dictionary words\".format(x = len(entries_code_switched_tr) / non_composite_word_tr_en * 100))"
   ]
  },
  {
   "cell_type": "code",
   "execution_count": 37,
   "metadata": {},
   "outputs": [
    {
     "name": "stdout",
     "output_type": "stream",
     "text": [
      "# 175836 words changed | # 118351 words changed after reduction | # 766292 total words.\n",
      "22.946344213432997 % of Turkish words can be code-switched to English.\n"
     ]
    }
   ],
   "source": [
    "nb_words_tr_captions = count_nb_words(tr_captions)\n",
    "\n",
    "print(\"# {n_1} words changed | # {n_2} words changed after reduction | # {n_3} total words.\".format(n_1 = nb_changed_tr_captions, \n",
    "                                                                                                   n_2 = nb_changed_after_reduction_tr,\n",
    "                                                                                                   n_3 = nb_words_tr_captions))\n",
    "print(\"{n} % of Turkish words can be code-switched to English.\".format(n = nb_changed_tr_captions / nb_words_tr_captions * 100))"
   ]
  },
  {
   "cell_type": "markdown",
   "metadata": {},
   "source": [
    "EN -> TR (NLVR2 sentences)"
   ]
  },
  {
   "cell_type": "code",
   "execution_count": 38,
   "metadata": {},
   "outputs": [
    {
     "name": "stdout",
     "output_type": "stream",
     "text": [
      "There are 22691 non-composite words in the dictionary.\n"
     ]
    }
   ],
   "source": [
    "non_composite_word_en_tr = get_nb_noncomposite_words(en_to_tr_dict)\n",
    "print(\"There are {n} non-composite words in the dictionary.\".format(n = non_composite_word_en_tr))"
   ]
  },
  {
   "cell_type": "code",
   "execution_count": 40,
   "metadata": {},
   "outputs": [],
   "source": [
    "nb_changed_to_tr, entries_code_switched_tr_nlvr2 = check_nlvr2_coverage(en_to_tr_dict, valid_pos_tag = set([\"NOUN\"]))"
   ]
  },
  {
   "cell_type": "code",
   "execution_count": 41,
   "metadata": {},
   "outputs": [
    {
     "name": "stdout",
     "output_type": "stream",
     "text": [
      "There are 1753 distinct English words that were code-switched.\n",
      "It corresponds to 7.725529945793487% of the total dictionary words\n"
     ]
    }
   ],
   "source": [
    "print(\"There are {n} distinct English words that were code-switched.\".format(n = len(entries_code_switched_tr_nlvr2)))\n",
    "print(\"It corresponds to {x}% of the total dictionary words\".format(x = len(entries_code_switched_tr_nlvr2) / non_composite_word_en_tr * 100))"
   ]
  },
  {
   "cell_type": "code",
   "execution_count": 42,
   "metadata": {},
   "outputs": [
    {
     "name": "stdout",
     "output_type": "stream",
     "text": [
      "# 229177 words changed | # 1161773 total words.\n",
      "19.726487015966114 % of English words can be code-switched to Turkish.\n"
     ]
    }
   ],
   "source": [
    "print(\"# {n_1} words changed | # {n_2} total words.\".format(n_1 = nb_changed_to_tr, n_2 = nb_nlvr2_words))\n",
    "print(\"{n} % of English words can be code-switched to Turkish.\".format(n = nb_changed_to_tr / nb_nlvr2_words * 100))"
   ]
  },
  {
   "cell_type": "markdown",
   "metadata": {},
   "source": [
    "### TR - VERBs only"
   ]
  },
  {
   "cell_type": "markdown",
   "metadata": {},
   "source": [
    "TR -> EN (WIT captions)"
   ]
  },
  {
   "cell_type": "code",
   "execution_count": 43,
   "metadata": {},
   "outputs": [
    {
     "name": "stdout",
     "output_type": "stream",
     "text": [
      "There are 13649 non-composite words in the dictionary.\n"
     ]
    }
   ],
   "source": [
    "non_composite_word_tr_en = get_nb_noncomposite_words(tr_to_en_dict)\n",
    "print(\"There are {n} non-composite words in the dictionary.\".format(n = non_composite_word_tr_en))"
   ]
  },
  {
   "cell_type": "code",
   "execution_count": 44,
   "metadata": {},
   "outputs": [],
   "source": [
    "nb_changed_tr_captions, nb_changed_after_reduction_tr, entries_code_switched_tr = check_WIT_captions_coverage(tr_captions, \n",
    "                                                                                    tr_to_en_dict, \n",
    "                                                                                    tr_caption_to_pos,\n",
    "                                                                                    tr_word_to_reduced_version,\n",
    "                                                                                    valid_pos_tag = set([\"VERB\"])\n",
    "                                                                                    )"
   ]
  },
  {
   "cell_type": "code",
   "execution_count": 45,
   "metadata": {},
   "outputs": [
    {
     "name": "stdout",
     "output_type": "stream",
     "text": [
      "There are 845 distinct Turkish words that were code-switched.\n",
      "It corresponds to 6.190929738442376% of the total dictionary words\n"
     ]
    }
   ],
   "source": [
    "print(\"There are {n} distinct Turkish words that were code-switched.\".format(n = len(entries_code_switched_tr)))\n",
    "print(\"It corresponds to {x}% of the total dictionary words\".format(x = len(entries_code_switched_tr) / non_composite_word_tr_en * 100))"
   ]
  },
  {
   "cell_type": "code",
   "execution_count": 46,
   "metadata": {},
   "outputs": [
    {
     "name": "stdout",
     "output_type": "stream",
     "text": [
      "# 29501 words changed | # 26576 words changed after reduction | # 766292 total words.\n",
      "3.849837920792596 % of Turkish words can be code-switched to English.\n"
     ]
    }
   ],
   "source": [
    "nb_words_tr_captions = count_nb_words(tr_captions)\n",
    "\n",
    "print(\"# {n_1} words changed | # {n_2} words changed after reduction | # {n_3} total words.\".format(n_1 = nb_changed_tr_captions, \n",
    "                                                                                                   n_2 = nb_changed_after_reduction_tr,\n",
    "                                                                                                   n_3 = nb_words_tr_captions))\n",
    "print(\"{n} % of Turkish words can be code-switched to English.\".format(n = nb_changed_tr_captions / nb_words_tr_captions * 100))"
   ]
  },
  {
   "cell_type": "markdown",
   "metadata": {},
   "source": [
    "EN -> TR (NLVR2 sentences)"
   ]
  },
  {
   "cell_type": "code",
   "execution_count": 47,
   "metadata": {},
   "outputs": [
    {
     "name": "stdout",
     "output_type": "stream",
     "text": [
      "There are 22691 non-composite words in the dictionary.\n"
     ]
    }
   ],
   "source": [
    "non_composite_word_en_tr = get_nb_noncomposite_words(en_to_tr_dict)\n",
    "print(\"There are {n} non-composite words in the dictionary.\".format(n = non_composite_word_en_tr))"
   ]
  },
  {
   "cell_type": "code",
   "execution_count": 49,
   "metadata": {},
   "outputs": [],
   "source": [
    "nb_changed_to_tr, entries_code_switched_tr_nlvr2 = check_nlvr2_coverage(en_to_tr_dict, valid_pos_tag = set([\"VERB\"]))"
   ]
  },
  {
   "cell_type": "code",
   "execution_count": 50,
   "metadata": {},
   "outputs": [
    {
     "name": "stdout",
     "output_type": "stream",
     "text": [
      "There are 207 distinct English words that were code-switched.\n",
      "It corresponds to 0.9122559605129787% of the total dictionary words\n"
     ]
    }
   ],
   "source": [
    "print(\"There are {n} distinct English words that were code-switched.\".format(n = len(entries_code_switched_tr_nlvr2)))\n",
    "print(\"It corresponds to {x}% of the total dictionary words\".format(x = len(entries_code_switched_tr_nlvr2) / non_composite_word_en_tr * 100))"
   ]
  },
  {
   "cell_type": "code",
   "execution_count": 51,
   "metadata": {},
   "outputs": [
    {
     "name": "stdout",
     "output_type": "stream",
     "text": [
      "# 7691 words changed | # 1161773 total words.\n",
      "0.6620054003665088 % of English words can be code-switched to Turkish.\n"
     ]
    }
   ],
   "source": [
    "print(\"# {n_1} words changed | # {n_2} total words.\".format(n_1 = nb_changed_to_tr, n_2 = nb_nlvr2_words))\n",
    "print(\"{n} % of English words can be code-switched to Turkish.\".format(n = nb_changed_to_tr / nb_nlvr2_words * 100))"
   ]
  },
  {
   "cell_type": "markdown",
   "metadata": {},
   "source": [
    "### TR - NOUNs + VERBs only"
   ]
  },
  {
   "cell_type": "markdown",
   "metadata": {},
   "source": [
    "TR -> EN (WIT captions)"
   ]
  },
  {
   "cell_type": "code",
   "execution_count": 52,
   "metadata": {},
   "outputs": [
    {
     "name": "stdout",
     "output_type": "stream",
     "text": [
      "There are 13649 non-composite words in the dictionary.\n"
     ]
    }
   ],
   "source": [
    "non_composite_word_tr_en = get_nb_noncomposite_words(tr_to_en_dict)\n",
    "print(\"There are {n} non-composite words in the dictionary.\".format(n = non_composite_word_tr_en))"
   ]
  },
  {
   "cell_type": "code",
   "execution_count": 53,
   "metadata": {},
   "outputs": [],
   "source": [
    "nb_changed_tr_captions, nb_changed_after_reduction_tr, entries_code_switched_tr = check_WIT_captions_coverage(tr_captions, \n",
    "                                                                                    tr_to_en_dict, \n",
    "                                                                                    tr_caption_to_pos,\n",
    "                                                                                    tr_word_to_reduced_version,\n",
    "                                                                                    valid_pos_tag = set([\"NOUN\", \"VERB\"])\n",
    "                                                                                    )"
   ]
  },
  {
   "cell_type": "code",
   "execution_count": 54,
   "metadata": {},
   "outputs": [
    {
     "name": "stdout",
     "output_type": "stream",
     "text": [
      "There are 5578 distinct Turkish words that were code-switched.\n",
      "It corresponds to 40.86746281778885% of the total dictionary words\n"
     ]
    }
   ],
   "source": [
    "print(\"There are {n} distinct Turkish words that were code-switched.\".format(n = len(entries_code_switched_tr)))\n",
    "print(\"It corresponds to {x}% of the total dictionary words\".format(x = len(entries_code_switched_tr) / non_composite_word_tr_en * 100))"
   ]
  },
  {
   "cell_type": "code",
   "execution_count": 55,
   "metadata": {},
   "outputs": [
    {
     "name": "stdout",
     "output_type": "stream",
     "text": [
      "# 205337 words changed | # 144927 words changed after reduction | # 766292 total words.\n",
      "26.796182134225592 % of Turkish words can be code-switched to English.\n"
     ]
    }
   ],
   "source": [
    "nb_words_tr_captions = count_nb_words(tr_captions)\n",
    "\n",
    "print(\"# {n_1} words changed | # {n_2} words changed after reduction | # {n_3} total words.\".format(n_1 = nb_changed_tr_captions, \n",
    "                                                                                                   n_2 = nb_changed_after_reduction_tr,\n",
    "                                                                                                   n_3 = nb_words_tr_captions))\n",
    "print(\"{n} % of Turkish words can be code-switched to English.\".format(n = nb_changed_tr_captions / nb_words_tr_captions * 100))"
   ]
  },
  {
   "cell_type": "markdown",
   "metadata": {},
   "source": [
    "EN -> TR (NLVR2 sentences)"
   ]
  },
  {
   "cell_type": "code",
   "execution_count": 56,
   "metadata": {},
   "outputs": [
    {
     "name": "stdout",
     "output_type": "stream",
     "text": [
      "There are 22691 non-composite words in the dictionary.\n"
     ]
    }
   ],
   "source": [
    "non_composite_word_en_tr = get_nb_noncomposite_words(en_to_tr_dict)\n",
    "print(\"There are {n} non-composite words in the dictionary.\".format(n = non_composite_word_en_tr))"
   ]
  },
  {
   "cell_type": "code",
   "execution_count": 57,
   "metadata": {},
   "outputs": [],
   "source": [
    "nb_changed_to_tr, entries_code_switched_tr_nlvr2 = check_nlvr2_coverage(en_to_tr_dict, valid_pos_tag = set([\"NOUN\", \"VERB\"]))"
   ]
  },
  {
   "cell_type": "code",
   "execution_count": 58,
   "metadata": {},
   "outputs": [
    {
     "name": "stdout",
     "output_type": "stream",
     "text": [
      "There are 1960 distinct English words that were code-switched.\n",
      "It corresponds to 8.637785906306465% of the total dictionary words\n"
     ]
    }
   ],
   "source": [
    "print(\"There are {n} distinct English words that were code-switched.\".format(n = len(entries_code_switched_tr_nlvr2)))\n",
    "print(\"It corresponds to {x}% of the total dictionary words\".format(x = len(entries_code_switched_tr_nlvr2) / non_composite_word_en_tr * 100))"
   ]
  },
  {
   "cell_type": "code",
   "execution_count": 59,
   "metadata": {},
   "outputs": [
    {
     "name": "stdout",
     "output_type": "stream",
     "text": [
      "# 236868 words changed | # 1161773 total words.\n",
      "20.388492416332625 % of English words can be code-switched to Turkish.\n"
     ]
    }
   ],
   "source": [
    "print(\"# {n_1} words changed | # {n_2} total words.\".format(n_1 = nb_changed_to_tr, n_2 = nb_nlvr2_words))\n",
    "print(\"{n} % of English words can be code-switched to Turkish.\".format(n = nb_changed_to_tr / nb_nlvr2_words * 100))"
   ]
  }
 ],
 "metadata": {
  "kernelspec": {
   "display_name": "marvl_env",
   "language": "python",
   "name": "marvl_env"
  },
  "orig_nbformat": 4
 },
 "nbformat": 4,
 "nbformat_minor": 2
}
