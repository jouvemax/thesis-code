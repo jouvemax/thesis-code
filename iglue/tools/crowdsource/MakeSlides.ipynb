{
 "cells": [
  {
   "cell_type": "code",
   "execution_count": 2,
   "id": "8978946b-7158-4c3f-8dd5-fa70bb241a1e",
   "metadata": {},
   "outputs": [],
   "source": [
    "import jsonlines\n",
    "from pptx import Presentation"
   ]
  },
  {
   "cell_type": "code",
   "execution_count": 3,
   "id": "37357219-309b-4260-9593-dad62593d10f",
   "metadata": {},
   "outputs": [],
   "source": [
    "with jsonlines.open('f30k_test.jsonl') as reader:\n",
    "    f30k_fns = [item['img_path'] for item in reader]\n",
    "with jsonlines.open('coco_test.jsonl') as reader:\n",
    "    coco_fns = ['COCO_val2014_%012d.jpg' % item['id'] for item in reader]"
   ]
  },
  {
   "cell_type": "code",
   "execution_count": 4,
   "id": "ada9245d-2a55-4cf5-9a32-2ddd8725dced",
   "metadata": {},
   "outputs": [],
   "source": [
    "test_fns = []\n",
    "ix = 0\n",
    "cur_dir = 0\n",
    "for fn in f30k_fns:\n",
    "    if ix % 100 == 0:\n",
    "        cur_dir += 1\n",
    "    imgpath = 'images/%02d/%s' % (cur_dir, fn)\n",
    "    test_fns.append(imgpath)\n",
    "    ix += 1\n",
    "for fn in coco_fns:\n",
    "    if ix % 100 == 0:\n",
    "        cur_dir += 1\n",
    "    imgpath = 'images/%02d/%s' % (cur_dir, fn)\n",
    "    test_fns.append(imgpath)\n",
    "    ix += 1"
   ]
  },
  {
   "cell_type": "code",
   "execution_count": 18,
   "id": "17c5801e-ecff-4e42-b834-f887307b4922",
   "metadata": {},
   "outputs": [],
   "source": [
    "languages = {\n",
    "    'ja': 'japanese',\n",
    "    'es': 'spanish',\n",
    "    'de': 'german',\n",
    "    'bn': 'bengali',\n",
    "    'id': 'indonesian',\n",
    "    'sw': 'swahili',\n",
    "    'ta': 'tamil',\n",
    "    'tr': 'turkish',\n",
    "    'ar': 'arabic',\n",
    "    'ru': 'russian',\n",
    "    'zh': 'chinese',\n",
    "    'ko': 'korean',\n",
    "}"
   ]
  },
  {
   "cell_type": "code",
   "execution_count": 16,
   "id": "9442cc01-508c-4752-98d2-8cbd35eade8e",
   "metadata": {},
   "outputs": [],
   "source": [
    "ix = 0\n",
    "for cur_dir in range(1, 21):\n",
    "    prs = Presentation('template.pptx')\n",
    "    for slide in list(prs.slides)[3:-1]:\n",
    "        ph1 = list(slide.placeholders)[0]\n",
    "        ph1.insert_picture(test_fns[ix])\n",
    "        ix += 1\n",
    "    for lang_id, lang in languages.items():\n",
    "        prs.save(\"annotations/%s/%s_%02d.pptx\" % (lang_id, lang, cur_dir))"
   ]
  },
  {
   "cell_type": "code",
   "execution_count": null,
   "id": "892471d2-53dc-4600-beca-33b83ae61b16",
   "metadata": {},
   "outputs": [],
   "source": []
  },
  {
   "cell_type": "markdown",
   "id": "a982b42c-cf0d-47bb-9489-6b18486b9eb8",
   "metadata": {},
   "source": [
    "### Few-shot"
   ]
  },
  {
   "cell_type": "code",
   "execution_count": 17,
   "id": "d4ca1387-3582-42d7-9622-2a5d8e1b8fdb",
   "metadata": {},
   "outputs": [],
   "source": [
    "few_ids = [s.strip() for s in open('f30k_few_train.txt').readlines()]\n",
    "\n",
    "ix = 0\n",
    "for cur_dir in range(21, 22):\n",
    "    prs = Presentation('template.pptx')\n",
    "    for slide in list(prs.slides)[3:-1]:\n",
    "        ph1 = list(slide.placeholders)[0]\n",
    "        ph1.insert_picture('images/21/%s.jpg' % few_ids[ix])\n",
    "        ix += 1\n",
    "    for lang_id, lang in languages.items():\n",
    "        prs.save(\"annotations/%s/%s_%02d.pptx\" % (lang_id, lang, cur_dir))"
   ]
  },
  {
   "cell_type": "code",
   "execution_count": null,
   "id": "343be388-0240-49aa-b866-9b56041a0b1e",
   "metadata": {},
   "outputs": [],
   "source": []
  }
 ],
 "metadata": {
  "kernelspec": {
   "display_name": "Python 3",
   "language": "python",
   "name": "python3"
  },
  "language_info": {
   "codemirror_mode": {
    "name": "ipython",
    "version": 3
   },
   "file_extension": ".py",
   "mimetype": "text/x-python",
   "name": "python",
   "nbconvert_exporter": "python",
   "pygments_lexer": "ipython3",
   "version": "3.8.8"
  }
 },
 "nbformat": 4,
 "nbformat_minor": 5
}
