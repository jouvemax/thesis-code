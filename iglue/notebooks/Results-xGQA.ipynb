{
 "cells": [
  {
   "cell_type": "code",
   "execution_count": 1,
   "metadata": {},
   "outputs": [],
   "source": [
    "import pandas as pd\n",
    "from collections import defaultdict"
   ]
  },
  {
   "cell_type": "code",
   "execution_count": 8,
   "metadata": {},
   "outputs": [],
   "source": [
    "model2name = {\n",
    "    \"ctrl_muniter\": \"mUNITER\",\n",
    "    \"ctrl_xuniter\": \"xUNITER\",\n",
    "    \"uc2\": \"UC$^2$\",\n",
    "    \"m3p\": \"M$^3$P\",\n",
    "}"
   ]
  },
  {
   "cell_type": "code",
   "execution_count": 9,
   "metadata": {},
   "outputs": [],
   "source": [
    "dset = 'xGQA'\n",
    "langs = ['bn', 'de', 'id', 'ko', 'pt', 'ru', 'zh']\n",
    "shots = [1,5,10,20,25,48]"
   ]
  },
  {
   "cell_type": "code",
   "execution_count": 10,
   "metadata": {},
   "outputs": [],
   "source": [
    "lang2model2vals = {lang: {m: [] for m in model2name} for lang in langs}\n",
    "\n",
    "dset_0 = pd.read_csv(f\"../results/{dset.lower()}/{dset}_0.csv\")\n",
    "for lang in lang2model2vals:\n",
    "    for (m, v) in dset_0[['model', lang]].values:\n",
    "        lang2model2vals[lang][m].append(v)\n",
    "        \n",
    "for s in shots:\n",
    "    dset_0 = pd.read_csv(f\"../results/{dset.lower()}/{dset}_{s}.csv\")\n",
    "    for lang in lang2model2vals:\n",
    "        for (m, v) in dset_0[['model', lang]].values:\n",
    "            lang2model2vals[lang][m].append(v)"
   ]
  },
  {
   "cell_type": "code",
   "execution_count": 11,
   "metadata": {},
   "outputs": [
    {
     "name": "stdout",
     "output_type": "stream",
     "text": [
      "\\multirow{4}{*}{\\small \\shortstack{bn}} & mUNITER & 3.06 & 19.36 & 23.94 & 27.53 & 30.04 & 31.04 & 34.89 \\\\\n",
      "& xUNITER & 10.80 & 23.92 & 29.43 & 31.67 & 34.84 & 36.18 & 37.55 \\\\\n",
      "& UC$^2$ & 19.99 & 22.52 & 30.96 & 32.84 & 35.69 & 35.12 & 38.90 \\\\\n",
      "& M$^3$P & 18.64 & 23.42 & 31.07 & 33.37 & 35.74 & 35.94 & 37.76 \\\\\n",
      "\\midrule\n",
      "\\multirow{4}{*}{\\small \\shortstack{de}} & mUNITER & 23.95 & 29.43 & 33.88 & 35.40 & 37.82 & 37.43 & 40.29 \\\\\n",
      "& xUNITER & 34.83 & 38.44 & 39.71 & 40.97 & 41.93 & 42.19 & 43.60 \\\\\n",
      "& UC$^2$ & 42.85 & 43.76 & 44.68 & 45.72 & 46.70 & 47.24 & 48.18 \\\\\n",
      "& M$^3$P & 33.42 & 34.37 & 39.66 & 40.73 & 41.78 & 41.93 & 43.19 \\\\\n",
      "\\midrule\n",
      "\\multirow{4}{*}{\\small \\shortstack{id}} & mUNITER & 9.36 & 27.31 & 31.39 & 33.28 & 36.49 & 35.85 & 38.06 \\\\\n",
      "& xUNITER & 33.73 & 35.28 & 37.38 & 37.96 & 39.48 & 39.40 & 40.90 \\\\\n",
      "& UC$^2$ & 28.67 & 34.76 & 38.95 & 40.11 & 41.26 & 41.51 & 43.11 \\\\\n",
      "& M$^3$P & 32.48 & 33.11 & 38.14 & 39.84 & 40.51 & 41.53 & 41.38 \\\\\n",
      "\\midrule\n",
      "\\multirow{4}{*}{\\small \\shortstack{ko}} & mUNITER & 4.21 & 19.40 & 26.47 & 29.03 & 31.95 & 32.76 & 35.23 \\\\\n",
      "& xUNITER & 12.12 & 23.45 & 31.49 & 34.70 & 36.66 & 37.26 & 39.32 \\\\\n",
      "& UC$^2$ & 21.36 & 29.33 & 33.02 & 34.50 & 36.09 & 38.40 & 39.63 \\\\\n",
      "& M$^3$P & 25.11 & 29.74 & 34.53 & 35.77 & 37.11 & 37.81 & 38.58 \\\\\n",
      "\\midrule\n",
      "\\multirow{4}{*}{\\small \\shortstack{pt}} & mUNITER & 13.67 & 22.88 & 31.09 & 34.38 & 37.05 & 37.32 & 39.41 \\\\\n",
      "& xUNITER & 22.13 & 30.10 & 36.44 & 38.72 & 39.73 & 41.06 & 42.56 \\\\\n",
      "& UC$^2$ & 30.42 & 32.10 & 39.42 & 39.57 & 41.73 & 41.27 & 43.23 \\\\\n",
      "& M$^3$P & 31.40 & 33.37 & 37.62 & 39.47 & 41.09 & 41.96 & 43.01 \\\\\n",
      "\\midrule\n",
      "\\multirow{4}{*}{\\small \\shortstack{ru}} & mUNITER & 8.49 & 22.51 & 29.42 & 31.98 & 32.90 & 34.34 & 34.78 \\\\\n",
      "& xUNITER & 18.84 & 27.32 & 34.05 & 36.39 & 38.19 & 38.37 & 39.40 \\\\\n",
      "& UC$^2$ & 31.00 & 33.04 & 37.40 & 38.13 & 40.63 & 41.09 & 42.79 \\\\\n",
      "& M$^3$P & 27.50 & 33.50 & 37.23 & 37.86 & 39.18 & 39.76 & 42.15 \\\\\n",
      "\\midrule\n",
      "\\multirow{4}{*}{\\small \\shortstack{zh}} & mUNITER & 7.03 & 18.33 & 30.90 & 32.25 & 36.18 & 35.52 & 37.81 \\\\\n",
      "& xUNITER & 19.55 & 31.36 & 37.35 & 37.34 & 39.19 & 39.48 & 41.42 \\\\\n",
      "& UC$^2$ & 31.16 & 37.54 & 41.21 & 41.49 & 43.46 & 43.58 & 44.82 \\\\\n",
      "& M$^3$P & 28.65 & 30.67 & 36.77 & 37.77 & 39.25 & 39.99 & 41.19 \\\\\n",
      "\\midrule\n"
     ]
    }
   ],
   "source": [
    "for lang in lang2model2vals:\n",
    "    print('\\multirow{4}{*}{\\small \\shortstack{%s}}' % lang, end=' ')\n",
    "    model2vals = lang2model2vals[lang]\n",
    "    for m, v in model2vals.items():\n",
    "        print(f'& {model2name[m]}', end=' ')\n",
    "        for e in v:\n",
    "            print('& %.2f' % e, end=' ')\n",
    "        print('\\\\\\\\')\n",
    "    print('\\midrule')"
   ]
  }
 ],
 "metadata": {
  "kernelspec": {
   "display_name": "Python 3",
   "language": "python",
   "name": "python3"
  },
  "language_info": {
   "codemirror_mode": {
    "name": "ipython",
    "version": 3
   },
   "file_extension": ".py",
   "mimetype": "text/x-python",
   "name": "python",
   "nbconvert_exporter": "python",
   "pygments_lexer": "ipython3",
   "version": "3.8.8"
  }
 },
 "nbformat": 4,
 "nbformat_minor": 4
}
