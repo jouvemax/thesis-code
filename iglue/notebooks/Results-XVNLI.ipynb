{
 "cells": [
  {
   "cell_type": "code",
   "execution_count": 9,
   "metadata": {},
   "outputs": [],
   "source": [
    "import pandas as pd\n",
    "from collections import defaultdict"
   ]
  },
  {
   "cell_type": "code",
   "execution_count": 15,
   "metadata": {},
   "outputs": [],
   "source": [
    "model2name = {\n",
    "    \"ctrl_muniter\": \"mUNITER\",\n",
    "    \"ctrl_xuniter\": \"xUNITER\",\n",
    "    \"uc2\": \"UC$^2$\",\n",
    "    \"m3p\": \"M$^3$P\",\n",
    "}"
   ]
  },
  {
   "cell_type": "code",
   "execution_count": 29,
   "metadata": {},
   "outputs": [],
   "source": [
    "dset = 'XVNLI'\n",
    "langs = ['ar', 'es', 'fr', 'ru']\n",
    "shots = [1,5,10,20,25,48]"
   ]
  },
  {
   "cell_type": "code",
   "execution_count": 32,
   "metadata": {},
   "outputs": [
    {
     "data": {
      "text/plain": [
       "array([['ctrl_muniter', 51.804],\n",
       "       ['ctrl_xuniter', 63.402],\n",
       "       ['uc2', 65.292],\n",
       "       ['m3p', 62.457]], dtype=object)"
      ]
     },
     "execution_count": 32,
     "metadata": {},
     "output_type": "execute_result"
    }
   ],
   "source": [
    "dset_0[['model', lang]].values"
   ]
  },
  {
   "cell_type": "code",
   "execution_count": 33,
   "metadata": {},
   "outputs": [],
   "source": [
    "lang2model2vals = {lang: {m: [] for m in model2name} for lang in langs}\n",
    "\n",
    "dset_0 = pd.read_csv(f\"../results/{dset.lower()}/{dset}_0.csv\")\n",
    "for lang in lang2model2vals:\n",
    "    for (m, v) in dset_0[['model', lang]].values:\n",
    "        lang2model2vals[lang][m].append(v)\n",
    "        \n",
    "for s in shots:\n",
    "    dset_0 = pd.read_csv(f\"../results/{dset.lower()}/{dset}_{s}.csv\")\n",
    "    for lang in lang2model2vals:\n",
    "        for (m, v) in dset_0[['model', lang]].values:\n",
    "            lang2model2vals[lang][m].append(v)"
   ]
  },
  {
   "cell_type": "code",
   "execution_count": 38,
   "metadata": {},
   "outputs": [
    {
     "name": "stdout",
     "output_type": "stream",
     "text": [
      "\\multirow{4}{*}{\\small \\shortstack{ar}} & mUNITER & 46.73 & 46.99 & 46.39 & 49.40 & 47.16 & 48.97 & 46.91 \\\\\n",
      "& xUNITER & 51.98 & 52.32 & 52.32 & 54.81 & 54.55 & 53.95 & 54.04 \\\\\n",
      "& UC$^2$ & 56.19 & 56.36 & 57.65 & 57.82 & 59.11 & 58.51 & 56.87 \\\\\n",
      "& M$^3$P & 55.24 & 54.98 & 55.07 & 56.19 & 55.24 & 56.79 & 56.01 \\\\\n",
      "\\midrule\n",
      "\\multirow{4}{*}{\\small \\shortstack{es}} & mUNITER & 56.96 & 56.79 & 57.47 & 57.30 & 57.73 & 57.65 & 57.73 \\\\\n",
      "& xUNITER & 58.94 & 59.02 & 58.94 & 60.74 & 59.88 & 59.11 & 60.22 \\\\\n",
      "& UC$^2$ & 57.47 & 57.65 & 61.34 & 59.79 & 62.63 & 59.79 & 62.80 \\\\\n",
      "& M$^3$P & 58.85 & 58.33 & 58.94 & 60.05 & 59.19 & 59.28 & 60.40 \\\\\n",
      "\\midrule\n",
      "\\multirow{4}{*}{\\small \\shortstack{fr}} & mUNITER & 59.36 & 59.45 & 59.19 & 59.54 & 59.36 & 59.62 & 59.36 \\\\\n",
      "& xUNITER & 63.32 & 63.49 & 64.26 & 63.83 & 64.26 & 64.09 & 64.52 \\\\\n",
      "& UC$^2$ & 69.67 & 69.67 & 69.67 & 69.76 & 69.84 & 69.76 & 69.76 \\\\\n",
      "& M$^3$P & 56.36 & 56.62 & 57.99 & 58.33 & 57.82 & 57.65 & 58.59 \\\\\n",
      "\\midrule\n",
      "\\multirow{4}{*}{\\small \\shortstack{ru}} & mUNITER & 51.72 & 51.72 & 51.46 & 50.52 & 52.32 & 51.46 & 51.80 \\\\\n",
      "& xUNITER & 59.71 & 59.54 & 59.54 & 59.54 & 61.94 & 61.34 & 63.40 \\\\\n",
      "& UC$^2$ & 64.86 & 64.43 & 64.52 & 64.95 & 65.38 & 65.38 & 65.29 \\\\\n",
      "& M$^3$P & 62.54 & 62.46 & 62.72 & 63.23 & 62.46 & 62.97 & 62.46 \\\\\n",
      "\\midrule\n"
     ]
    }
   ],
   "source": [
    "for lang in lang2model2vals:\n",
    "    print('\\multirow{4}{*}{\\small \\shortstack{%s}}' % lang, end=' ')\n",
    "    model2vals = lang2model2vals[lang]\n",
    "    for m, v in model2vals.items():\n",
    "        print(f'& {model2name[m]}', end=' ')\n",
    "        for e in v:\n",
    "            print('& %.2f' % e, end=' ')\n",
    "        print('\\\\\\\\')\n",
    "    print('\\midrule')"
   ]
  }
 ],
 "metadata": {
  "kernelspec": {
   "display_name": "Python 3",
   "language": "python",
   "name": "python3"
  },
  "language_info": {
   "codemirror_mode": {
    "name": "ipython",
    "version": 3
   },
   "file_extension": ".py",
   "mimetype": "text/x-python",
   "name": "python",
   "nbconvert_exporter": "python",
   "pygments_lexer": "ipython3",
   "version": "3.8.8"
  }
 },
 "nbformat": 4,
 "nbformat_minor": 4
}
