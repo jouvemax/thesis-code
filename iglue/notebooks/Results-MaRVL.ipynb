{
 "cells": [
  {
   "cell_type": "code",
   "execution_count": 1,
   "metadata": {},
   "outputs": [],
   "source": [
    "import pandas as pd\n",
    "from collections import defaultdict"
   ]
  },
  {
   "cell_type": "code",
   "execution_count": 2,
   "metadata": {},
   "outputs": [],
   "source": [
    "model2name = {\n",
    "    \"ctrl_muniter\": \"mUNITER\",\n",
    "    \"ctrl_xuniter\": \"xUNITER\",\n",
    "    \"uc2\": \"UC$^2$\",\n",
    "    \"m3p\": \"M$^3$P\",\n",
    "}"
   ]
  },
  {
   "cell_type": "code",
   "execution_count": 3,
   "metadata": {},
   "outputs": [],
   "source": [
    "dset = 'MaRVL'\n",
    "langs = ['id', 'sw', 'ta', 'tr', 'zh']\n",
    "shots = ['1','2','4','10','10x2']"
   ]
  },
  {
   "cell_type": "code",
   "execution_count": 5,
   "metadata": {},
   "outputs": [],
   "source": [
    "lang2model2vals = {lang: {m: [] for m in model2name} for lang in langs}\n",
    "\n",
    "dset_0 = pd.read_csv(f\"../results/{dset.lower()}/{dset}_0.csv\")\n",
    "for lang in lang2model2vals:\n",
    "    if lang not in dset_0.columns:\n",
    "        lang2model2vals[lang][m].append('N/A')\n",
    "        continue\n",
    "    for (m, v) in dset_0[['model', lang]].values:\n",
    "        lang2model2vals[lang][m].append(v)\n",
    "        \n",
    "for s in shots:\n",
    "    dset_0 = pd.read_csv(f\"../results/{dset.lower()}/{dset}_{s}.csv\")\n",
    "    for lang in lang2model2vals:\n",
    "        if lang not in dset_0.columns:\n",
    "            lang2model2vals[lang][m].append('-')\n",
    "            continue\n",
    "        for (m, v) in dset_0[['model', lang]].values:\n",
    "            lang2model2vals[lang][m].append(v)"
   ]
  },
  {
   "cell_type": "code",
   "execution_count": 6,
   "metadata": {},
   "outputs": [
    {
     "name": "stdout",
     "output_type": "stream",
     "text": [
      "\\multirow{4}{*}{\\small \\shortstack{id}} & mUNITER & 54.79 & 51.42 & 52.13 & 54.34 & 56.83 & 51.42 \\\\\n",
      "& xUNITER & 55.14 & 56.12 & 57.18 & 58.87 & 58.87 & 58.60 \\\\\n",
      "& UC$^2$ & 56.74 & 56.12 & 56.29 & 57.53 & 57.62 & 58.51 \\\\\n",
      "& M$^3$P & 56.47 & 49.02 & 48.05 & 50.18 & 50.09 & 50.09 \\\\\n",
      "\\midrule\n",
      "\\multirow{4}{*}{\\small \\shortstack{sw}} & mUNITER & 51.17 \\\\\n",
      "& xUNITER & 55.51 \\\\\n",
      "& UC$^2$ & 52.62 \\\\\n",
      "& M$^3$P & 55.69 & - & - & - & - & - \\\\\n",
      "\\midrule\n",
      "\\multirow{4}{*}{\\small \\shortstack{ta}} & mUNITER & 52.66 \\\\\n",
      "& xUNITER & 53.06 \\\\\n",
      "& UC$^2$ & 60.47 \\\\\n",
      "& M$^3$P & 56.04 & - & - & - & - & - \\\\\n",
      "\\midrule\n",
      "\\multirow{4}{*}{\\small \\shortstack{tr}} & mUNITER & 54.66 & 52.54 & 55.93 & 55.59 & 54.66 & 54.75 \\\\\n",
      "& xUNITER & 56.19 & 55.93 & 57.46 & 57.54 & 57.80 & 58.05 \\\\\n",
      "& UC$^2$ & 56.70 & 55.76 & 54.49 & 52.63 & 55.93 & 56.27 \\\\\n",
      "& M$^3$P & 56.78 & 51.19 & 49.32 & 49.58 & 49.41 & 49.58 \\\\\n",
      "\\midrule\n",
      "\\multirow{4}{*}{\\small \\shortstack{zh}} & mUNITER & 55.34 & 56.52 & 54.84 & 54.55 & 55.34 & 54.05 \\\\\n",
      "& xUNITER & 53.06 & 54.45 & 53.66 & 54.94 & 53.46 & 55.73 \\\\\n",
      "& UC$^2$ & 59.88 & 58.99 & 57.02 & 58.99 & 57.21 & 60.18 \\\\\n",
      "& M$^3$P & 55.04 & 50.69 & 50.40 & 50.20 & 49.80 & 49.70 \\\\\n",
      "\\midrule\n"
     ]
    }
   ],
   "source": [
    "for lang in lang2model2vals:\n",
    "    print('\\multirow{4}{*}{\\small \\shortstack{%s}}' % lang, end=' ')\n",
    "    model2vals = lang2model2vals[lang]\n",
    "    for m, v in model2vals.items():\n",
    "        print(f'& {model2name[m]}', end=' ')\n",
    "        for e in v:\n",
    "            if e != '-':\n",
    "                print('& %.2f' % e, end=' ')\n",
    "            else:\n",
    "                print('& -', end=' ')\n",
    "        print('\\\\\\\\')\n",
    "    print('\\midrule')"
   ]
  }
 ],
 "metadata": {
  "kernelspec": {
   "display_name": "Python 3",
   "language": "python",
   "name": "python3"
  },
  "language_info": {
   "codemirror_mode": {
    "name": "ipython",
    "version": 3
   },
   "file_extension": ".py",
   "mimetype": "text/x-python",
   "name": "python",
   "nbconvert_exporter": "python",
   "pygments_lexer": "ipython3",
   "version": "3.8.8"
  }
 },
 "nbformat": 4,
 "nbformat_minor": 4
}
